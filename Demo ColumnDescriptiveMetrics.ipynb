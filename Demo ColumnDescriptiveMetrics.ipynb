{
 "cells": [
  {
   "cell_type": "markdown",
   "id": "7daa84a5",
   "metadata": {},
   "source": [
    "## Connect to Data"
   ]
  },
  {
   "cell_type": "code",
   "execution_count": 1,
   "id": "cd0e4dfb",
   "metadata": {},
   "outputs": [],
   "source": [
    "import great_expectations as gx\n",
    "\n",
    "context = gx.get_context()"
   ]
  },
  {
   "cell_type": "code",
   "execution_count": 2,
   "id": "a43649ec",
   "metadata": {},
   "outputs": [],
   "source": [
    "validator = context.sources.pandas_default.read_csv(\n",
    "    \"https://raw.githubusercontent.com/great-expectations/gx_tutorials/main/data/yellow_tripdata_sample_2019-01.csv\"\n",
    ")"
   ]
  },
  {
   "cell_type": "code",
   "execution_count": 3,
   "id": "77ad42bd",
   "metadata": {},
   "outputs": [
    {
     "data": {
      "text/plain": [
       "[{'type': 'pandas', 'name': 'default_pandas_datasource'}]"
      ]
     },
     "execution_count": 3,
     "metadata": {},
     "output_type": "execute_result"
    }
   ],
   "source": [
    "context.list_datasources()"
   ]
  },
  {
   "cell_type": "code",
   "execution_count": 4,
   "id": "6ee079bc",
   "metadata": {},
   "outputs": [],
   "source": [
    "datasource = context.get_datasource(\"default_pandas_datasource\")"
   ]
  },
  {
   "cell_type": "code",
   "execution_count": 5,
   "id": "3116682c",
   "metadata": {},
   "outputs": [],
   "source": [
    "data_asset = datasource.assets[0]"
   ]
  },
  {
   "cell_type": "code",
   "execution_count": 6,
   "id": "d2b61d40",
   "metadata": {},
   "outputs": [],
   "source": [
    "batch_request = data_asset.build_batch_request()"
   ]
  },
  {
   "cell_type": "markdown",
   "id": "463cfa2a",
   "metadata": {},
   "source": [
    "## Inspect Data\n",
    "\n",
    "(invoked via the Agent via an AgentAction)"
   ]
  },
  {
   "cell_type": "code",
   "execution_count": 7,
   "id": "0b1c576f",
   "metadata": {},
   "outputs": [],
   "source": [
    "from great_expectations.experimental.column_descriptive_metrics.prototype import (\n",
    "    CloudStoreBackend,\n",
    "    ColumnDescriptiveMetricsStore,\n",
    "    inspect_asset,\n",
    ")"
   ]
  },
  {
   "cell_type": "code",
   "execution_count": 8,
   "id": "a47c7352",
   "metadata": {},
   "outputs": [
    {
     "name": "stdout",
     "output_type": "stream",
     "text": [
      "This method would be invoked via an AgentAction\n",
      "Inspecting data asset: #ephemeral_pandas_asset\n",
      "NOTE: Here is where we can use things like DomainBuilder and MetricCalculator to calculate metrics\n"
     ]
    }
   ],
   "source": [
    "metrics = inspect_asset(data_asset, batch_request)"
   ]
  },
  {
   "cell_type": "code",
   "execution_count": 9,
   "id": "3a9529e6",
   "metadata": {},
   "outputs": [],
   "source": [
    "# Another option, invoked via agent:\n",
    "# asset_inspector = AssetInspector(asset=data_asset)\n",
    "# metrics = asset_inspector.inspect_batch(batch_request)"
   ]
  },
  {
   "cell_type": "code",
   "execution_count": 10,
   "id": "9de42880",
   "metadata": {},
   "outputs": [],
   "source": [
    "cloud_store_backend = CloudStoreBackend()"
   ]
  },
  {
   "cell_type": "code",
   "execution_count": 11,
   "id": "eadd2c27",
   "metadata": {},
   "outputs": [],
   "source": [
    "column_descriptive_metrics_store = ColumnDescriptiveMetricsStore(\n",
    "    backend=cloud_store_backend\n",
    ")"
   ]
  },
  {
   "cell_type": "code",
   "execution_count": 12,
   "id": "9a11b11f",
   "metadata": {},
   "outputs": [
    {
     "name": "stdout",
     "output_type": "stream",
     "text": [
      "Creating metric in ColumnDescriptiveMetricsStore\n",
      "Creating item of type Metrics in CloudStoreBackend - sending a POST REST API request to the cloud.\n",
      "metrics=[Metric(name='table.head', placeholder_value='   vendor_id      pickup_datetime     dropoff_datetime  passenger_count  \\\\\\n0          1  2019-01-15 03:36:12  2019-01-15 03:42:19                1   \\n1          1  2019-01-25 18:20:32  2019-01-25 18:26:55                1   \\n2          1  2019-01-05 06:47:31  2019-01-05 06:52:19                1   \\n3          1  2019-01-09 15:08:02  2019-01-09 15:20:17                1   \\n4          1  2019-01-25 18:49:51  2019-01-25 18:56:44                1   \\n\\n   trip_distance  rate_code_id store_and_fwd_flag  pickup_location_id  \\\\\\n0            1.0             1                  N                 230   \\n1            0.8             1                  N                 112   \\n2            1.1             1                  N                 107   \\n3            2.5             1                  N                 143   \\n4            0.8             1                  N                 246   \\n\\n   dropoff_location_id  payment_type  fare_amount  extra  mta_tax  tip_amount  \\\\\\n0                   48             1          6.5    0.5      0.5        1.95   \\n1                  112             1          6.0    1.0      0.5        1.55   \\n2                    4             2          6.0    0.0      0.5        0.00   \\n3                  158             1         11.0    0.0      0.5        3.00   \\n4                   90             1          6.5    1.0      0.5        1.65   \\n\\n   tolls_amount  improvement_surcharge  total_amount  congestion_surcharge  \\n0           0.0                    0.3          9.75                   NaN  \\n1           0.0                    0.3          9.35                   0.0  \\n2           0.0                    0.3          6.80                   NaN  \\n3           0.0                    0.3         14.80                   NaN  \\n4           0.0                    0.3          9.95                   0.0  ')]\n"
     ]
    }
   ],
   "source": [
    "column_descriptive_metrics_store.create(metrics)"
   ]
  },
  {
   "cell_type": "code",
   "execution_count": null,
   "id": "b61b09eb",
   "metadata": {},
   "outputs": [],
   "source": []
  },
  {
   "cell_type": "code",
   "execution_count": null,
   "id": "5fa683d4",
   "metadata": {},
   "outputs": [],
   "source": []
  }
 ],
 "metadata": {
  "kernelspec": {
   "display_name": "Python 3 (ipykernel)",
   "language": "python",
   "name": "python3"
  },
  "language_info": {
   "codemirror_mode": {
    "name": "ipython",
    "version": 3
   },
   "file_extension": ".py",
   "mimetype": "text/x-python",
   "name": "python",
   "nbconvert_exporter": "python",
   "pygments_lexer": "ipython3",
   "version": "3.8.16"
  }
 },
 "nbformat": 4,
 "nbformat_minor": 5
}

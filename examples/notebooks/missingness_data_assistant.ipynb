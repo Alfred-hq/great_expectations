{
 "cells": [
  {
   "cell_type": "code",
   "execution_count": 122,
   "metadata": {},
   "outputs": [],
   "source": [
    "\"\"\"Example: How to create an Expectation Suite with the Missingness Data Assistant\n",
    "\n",
    "--documentation--\n",
    "    https://docs.greatexpectations.io/docs/guides/expectations/data_assistants/how_to_create_an_expectation_suite_with_the_missingness_data_assistant\n",
    "\"\"\"\n",
    "import great_expectations as gx\n",
    "\n",
    "context = gx.get_context()"
   ]
  },
  {
   "cell_type": "code",
   "execution_count": 123,
   "metadata": {},
   "outputs": [],
   "source": [
    "# Read data in to get validator \n",
    " \n",
    "datasource = context.sources.add_pandas_filesystem(\n",
    "    name=\"taxi_multi_batch_datasource\",  # custom name to assign to new datasource, can be used to retrieve datasource later\n",
    "    base_directory=\"../../tests/test_sets/taxi_yellow_tripdata_samples/\",  # replace with your data directory\n",
    ")\n",
    "    \n",
    "validator = datasource.read_csv(\n",
    "    asset_name=\"all_years\",   # custom name to assign to the asset, can be used to retrieve asset later\n",
    "    batching_regex=r\"yellow_tripdata_sample_(?P<year>\\d{4})-(?P<month>\\d{2})\\.csv\",\n",
    ")\n"
   ]
  },
  {
   "cell_type": "code",
   "execution_count": 124,
   "metadata": {},
   "outputs": [
    {
     "name": "stdout",
     "output_type": "stream",
     "text": [
      "\n"
     ]
    },
    {
     "data": {
      "application/vnd.jupyter.widget-view+json": {
       "model_id": "2ff5e4f5c51b4260a5187f3e1fe362d3",
       "version_major": 2,
       "version_minor": 0
      },
      "text/plain": [
       "Generating Expectations:   0%|          | 0/1 [00:00<?, ?it/s]"
      ]
     },
     "metadata": {},
     "output_type": "display_data"
    },
    {
     "data": {
      "application/vnd.jupyter.widget-view+json": {
       "model_id": "5f8efd20236942f0b9af78796f098d93",
       "version_major": 2,
       "version_minor": 0
      },
      "text/plain": [
       "Calculating Metrics:   0%|          | 0/2 [00:00<?, ?it/s]"
      ]
     },
     "metadata": {},
     "output_type": "display_data"
    },
    {
     "data": {
      "application/vnd.jupyter.widget-view+json": {
       "model_id": "3f2bf43e17494740812973996f2d5396",
       "version_major": 2,
       "version_minor": 0
      },
      "text/plain": [
       "Calculating Metrics:   0%|          | 0/1 [00:00<?, ?it/s]"
      ]
     },
     "metadata": {},
     "output_type": "display_data"
    },
    {
     "data": {
      "application/vnd.jupyter.widget-view+json": {
       "model_id": "0cd96edaf953402587d1424711399432",
       "version_major": 2,
       "version_minor": 0
      },
      "text/plain": [
       "Profiling Dataset:         0%|          | 0/8 [00:00<?, ?it/s]"
      ]
     },
     "metadata": {},
     "output_type": "display_data"
    },
    {
     "data": {
      "application/vnd.jupyter.widget-view+json": {
       "model_id": "bde143c1a5bd463d920b1a437612db76",
       "version_major": 2,
       "version_minor": 0
      },
      "text/plain": [
       "Calculating Metrics:   0%|          | 0/180 [00:00<?, ?it/s]"
      ]
     },
     "metadata": {},
     "output_type": "display_data"
    },
    {
     "data": {
      "application/vnd.jupyter.widget-view+json": {
       "model_id": "5d8645faf10a4d9c8c642dcaeb2b70cb",
       "version_major": 2,
       "version_minor": 0
      },
      "text/plain": [
       "Calculating Metrics:   0%|          | 0/36 [00:00<?, ?it/s]"
      ]
     },
     "metadata": {},
     "output_type": "display_data"
    },
    {
     "data": {
      "application/vnd.jupyter.widget-view+json": {
       "model_id": "b0b6a5237e2f4811baae8976d3555250",
       "version_major": 2,
       "version_minor": 0
      },
      "text/plain": [
       "Calculating Metrics:   0%|          | 0/180 [00:00<?, ?it/s]"
      ]
     },
     "metadata": {},
     "output_type": "display_data"
    },
    {
     "data": {
      "application/vnd.jupyter.widget-view+json": {
       "model_id": "9cc0fdb898ef42dd99a5d3da9936f8e3",
       "version_major": 2,
       "version_minor": 0
      },
      "text/plain": [
       "Calculating Metrics:   0%|          | 0/180 [00:00<?, ?it/s]"
      ]
     },
     "metadata": {},
     "output_type": "display_data"
    },
    {
     "data": {
      "application/vnd.jupyter.widget-view+json": {
       "model_id": "1772a243b7fe4f45b17eac01072b512f",
       "version_major": 2,
       "version_minor": 0
      },
      "text/plain": [
       "Calculating Metrics:   0%|          | 0/36 [00:00<?, ?it/s]"
      ]
     },
     "metadata": {},
     "output_type": "display_data"
    },
    {
     "data": {
      "application/vnd.jupyter.widget-view+json": {
       "model_id": "eb7fb341137446c1829a1ed97fff6216",
       "version_major": 2,
       "version_minor": 0
      },
      "text/plain": [
       "Calculating Metrics:   0%|          | 0/180 [00:00<?, ?it/s]"
      ]
     },
     "metadata": {},
     "output_type": "display_data"
    },
    {
     "data": {
      "application/vnd.jupyter.widget-view+json": {
       "model_id": "13fbe57a98e348078411cc5d82f3d503",
       "version_major": 2,
       "version_minor": 0
      },
      "text/plain": [
       "Calculating Metrics:   0%|          | 0/180 [00:00<?, ?it/s]"
      ]
     },
     "metadata": {},
     "output_type": "display_data"
    },
    {
     "data": {
      "application/vnd.jupyter.widget-view+json": {
       "model_id": "311e72871a0342f1ac8365a1e752d680",
       "version_major": 2,
       "version_minor": 0
      },
      "text/plain": [
       "Calculating Metrics:   0%|          | 0/36 [00:00<?, ?it/s]"
      ]
     },
     "metadata": {},
     "output_type": "display_data"
    },
    {
     "data": {
      "application/vnd.jupyter.widget-view+json": {
       "model_id": "38d4ca0ae58845ae9c97f0ff24fdae9f",
       "version_major": 2,
       "version_minor": 0
      },
      "text/plain": [
       "Calculating Metrics:   0%|          | 0/180 [00:00<?, ?it/s]"
      ]
     },
     "metadata": {},
     "output_type": "display_data"
    },
    {
     "data": {
      "application/vnd.jupyter.widget-view+json": {
       "model_id": "d579fd82eac24a798dc47ae38d35b8dd",
       "version_major": 2,
       "version_minor": 0
      },
      "text/plain": [
       "Calculating Metrics:   0%|          | 0/180 [00:00<?, ?it/s]"
      ]
     },
     "metadata": {},
     "output_type": "display_data"
    },
    {
     "data": {
      "application/vnd.jupyter.widget-view+json": {
       "model_id": "4afe011c5983430c95c493d359c9dcfa",
       "version_major": 2,
       "version_minor": 0
      },
      "text/plain": [
       "Calculating Metrics:   0%|          | 0/36 [00:00<?, ?it/s]"
      ]
     },
     "metadata": {},
     "output_type": "display_data"
    },
    {
     "data": {
      "application/vnd.jupyter.widget-view+json": {
       "model_id": "9a3e1bacb7794a1189ef8b3e6a46d7a8",
       "version_major": 2,
       "version_minor": 0
      },
      "text/plain": [
       "Calculating Metrics:   0%|          | 0/180 [00:00<?, ?it/s]"
      ]
     },
     "metadata": {},
     "output_type": "display_data"
    },
    {
     "data": {
      "application/vnd.jupyter.widget-view+json": {
       "model_id": "c1a722390ead4673874aa501854e601b",
       "version_major": 2,
       "version_minor": 0
      },
      "text/plain": [
       "Calculating Metrics:   0%|          | 0/180 [00:00<?, ?it/s]"
      ]
     },
     "metadata": {},
     "output_type": "display_data"
    },
    {
     "data": {
      "application/vnd.jupyter.widget-view+json": {
       "model_id": "b24faa964b2746568799c7c76349324c",
       "version_major": 2,
       "version_minor": 0
      },
      "text/plain": [
       "Calculating Metrics:   0%|          | 0/36 [00:00<?, ?it/s]"
      ]
     },
     "metadata": {},
     "output_type": "display_data"
    },
    {
     "data": {
      "application/vnd.jupyter.widget-view+json": {
       "model_id": "2f4de3753c4f492390b91d68ab0a5993",
       "version_major": 2,
       "version_minor": 0
      },
      "text/plain": [
       "Calculating Metrics:   0%|          | 0/180 [00:00<?, ?it/s]"
      ]
     },
     "metadata": {},
     "output_type": "display_data"
    },
    {
     "data": {
      "application/vnd.jupyter.widget-view+json": {
       "model_id": "6bddb7a25a924057807221d3b681599c",
       "version_major": 2,
       "version_minor": 0
      },
      "text/plain": [
       "Calculating Metrics:   0%|          | 0/180 [00:00<?, ?it/s]"
      ]
     },
     "metadata": {},
     "output_type": "display_data"
    },
    {
     "data": {
      "application/vnd.jupyter.widget-view+json": {
       "model_id": "6a13bf2f39d34d6d8fed58166bc873bc",
       "version_major": 2,
       "version_minor": 0
      },
      "text/plain": [
       "Calculating Metrics:   0%|          | 0/36 [00:00<?, ?it/s]"
      ]
     },
     "metadata": {},
     "output_type": "display_data"
    },
    {
     "data": {
      "application/vnd.jupyter.widget-view+json": {
       "model_id": "f71f7c4bf9e145cc9d36ffea691f2945",
       "version_major": 2,
       "version_minor": 0
      },
      "text/plain": [
       "Calculating Metrics:   0%|          | 0/180 [00:00<?, ?it/s]"
      ]
     },
     "metadata": {},
     "output_type": "display_data"
    },
    {
     "data": {
      "application/vnd.jupyter.widget-view+json": {
       "model_id": "68a8b052055744088273d5a1070e2cc1",
       "version_major": 2,
       "version_minor": 0
      },
      "text/plain": [
       "Calculating Metrics:   0%|          | 0/180 [00:00<?, ?it/s]"
      ]
     },
     "metadata": {},
     "output_type": "display_data"
    },
    {
     "data": {
      "application/vnd.jupyter.widget-view+json": {
       "model_id": "121d90f40da84c3daf24112e5c4a3e79",
       "version_major": 2,
       "version_minor": 0
      },
      "text/plain": [
       "Calculating Metrics:   0%|          | 0/36 [00:00<?, ?it/s]"
      ]
     },
     "metadata": {},
     "output_type": "display_data"
    },
    {
     "data": {
      "application/vnd.jupyter.widget-view+json": {
       "model_id": "fb829833c7b4472b86af423e9e24f655",
       "version_major": 2,
       "version_minor": 0
      },
      "text/plain": [
       "Calculating Metrics:   0%|          | 0/180 [00:00<?, ?it/s]"
      ]
     },
     "metadata": {},
     "output_type": "display_data"
    },
    {
     "data": {
      "application/vnd.jupyter.widget-view+json": {
       "model_id": "5b771479d5904949baa44ac3a3080225",
       "version_major": 2,
       "version_minor": 0
      },
      "text/plain": [
       "Calculating Metrics:   0%|          | 0/180 [00:00<?, ?it/s]"
      ]
     },
     "metadata": {},
     "output_type": "display_data"
    },
    {
     "data": {
      "application/vnd.jupyter.widget-view+json": {
       "model_id": "d3d651a57cd845368586f35bfd62e3a0",
       "version_major": 2,
       "version_minor": 0
      },
      "text/plain": [
       "Calculating Metrics:   0%|          | 0/36 [00:00<?, ?it/s]"
      ]
     },
     "metadata": {},
     "output_type": "display_data"
    },
    {
     "data": {
      "application/vnd.jupyter.widget-view+json": {
       "model_id": "8c610226b61442c8a29ff1046f34f383",
       "version_major": 2,
       "version_minor": 0
      },
      "text/plain": [
       "Calculating Metrics:   0%|          | 0/180 [00:00<?, ?it/s]"
      ]
     },
     "metadata": {},
     "output_type": "display_data"
    }
   ],
   "source": [
    "\n",
    "# Run the Missingness Assistant\n",
    "\n",
    "exclude_column_names = [\n",
    "    \"VendorID\",\n",
    "    \"pickup_datetime\",\n",
    "    \"dropoff_datetime\",\n",
    "    \"RatecodeID\",\n",
    "    \"PULocationID\",\n",
    "    \"DOLocationID\",\n",
    "    \"payment_type\",\n",
    "    \"fare_amount\",\n",
    "    \"extra\",\n",
    "    \"mta_tax\",\n",
    "    \"tip_amount\",\n",
    "    \"tolls_amount\",\n",
    "    \"improvement_surcharge\",\n",
    "    \"congestion_surcharge\",\n",
    "]\n",
    "\n",
    "data_assistant_result = context.assistants.missingness.run(\n",
    "    validator=validator,\n",
    "    exclude_column_names=exclude_column_names,\n",
    "    \n",
    ")\n"
   ]
  },
  {
   "cell_type": "code",
   "execution_count": 125,
   "metadata": {},
   "outputs": [
    {
     "name": "stdout",
     "output_type": "stream",
     "text": [
      "[ { 'expect_column_values_to_not_be_null': { 'column': 'trip_distance',\n",
      "                                             'domain': 'column',\n",
      "                                             'mostly': 1.0}},\n",
      "  { 'expect_column_values_to_not_be_null': { 'column': 'pickup_location_id',\n",
      "                                             'domain': 'column',\n",
      "                                             'mostly': 1.0}},\n",
      "  { 'expect_column_values_to_not_be_null': { 'column': 'dropoff_location_id',\n",
      "                                             'domain': 'column',\n",
      "                                             'mostly': 1.0}},\n",
      "  { 'expect_column_values_to_not_be_null': { 'column': 'total_amount',\n",
      "                                             'domain': 'column',\n",
      "                                             'mostly': 1.0}}]\n"
     ]
    }
   ],
   "source": [
    "# View generated expectations\n",
    "\n",
    "data_assistant_result.show_expectations_by_expectation_type()\n"
   ]
  },
  {
   "cell_type": "code",
   "execution_count": 126,
   "metadata": {},
   "outputs": [
    {
     "data": {
      "text/plain": [
       "{\n",
       "  \"expectations\": [\n",
       "    {\n",
       "      \"expectation_type\": \"expect_column_values_to_not_be_null\",\n",
       "      \"meta\": {\n",
       "        \"profiler_details\": {\n",
       "          \"metric_configuration\": {\n",
       "            \"metric_name\": \"column_values.nonnull.unexpected_count\",\n",
       "            \"domain_kwargs\": {\n",
       "              \"column\": \"trip_distance\"\n",
       "            },\n",
       "            \"metric_value_kwargs\": null\n",
       "          },\n",
       "          \"num_batches\": 36,\n",
       "          \"mode\": \"multi_batch\"\n",
       "        }\n",
       "      },\n",
       "      \"kwargs\": {\n",
       "        \"column\": \"trip_distance\",\n",
       "        \"mostly\": 1.0\n",
       "      }\n",
       "    },\n",
       "    {\n",
       "      \"expectation_type\": \"expect_column_values_to_not_be_null\",\n",
       "      \"meta\": {\n",
       "        \"profiler_details\": {\n",
       "          \"metric_configuration\": {\n",
       "            \"metric_name\": \"column_values.nonnull.unexpected_count\",\n",
       "            \"domain_kwargs\": {\n",
       "              \"column\": \"pickup_location_id\"\n",
       "            },\n",
       "            \"metric_value_kwargs\": null\n",
       "          },\n",
       "          \"num_batches\": 36,\n",
       "          \"mode\": \"multi_batch\"\n",
       "        }\n",
       "      },\n",
       "      \"kwargs\": {\n",
       "        \"column\": \"pickup_location_id\",\n",
       "        \"mostly\": 1.0\n",
       "      }\n",
       "    },\n",
       "    {\n",
       "      \"expectation_type\": \"expect_column_values_to_not_be_null\",\n",
       "      \"meta\": {\n",
       "        \"profiler_details\": {\n",
       "          \"metric_configuration\": {\n",
       "            \"metric_name\": \"column_values.nonnull.unexpected_count\",\n",
       "            \"domain_kwargs\": {\n",
       "              \"column\": \"dropoff_location_id\"\n",
       "            },\n",
       "            \"metric_value_kwargs\": null\n",
       "          },\n",
       "          \"num_batches\": 36,\n",
       "          \"mode\": \"multi_batch\"\n",
       "        }\n",
       "      },\n",
       "      \"kwargs\": {\n",
       "        \"column\": \"dropoff_location_id\",\n",
       "        \"mostly\": 1.0\n",
       "      }\n",
       "    },\n",
       "    {\n",
       "      \"expectation_type\": \"expect_column_values_to_not_be_null\",\n",
       "      \"meta\": {\n",
       "        \"profiler_details\": {\n",
       "          \"metric_configuration\": {\n",
       "            \"metric_name\": \"column_values.nonnull.unexpected_count\",\n",
       "            \"domain_kwargs\": {\n",
       "              \"column\": \"total_amount\"\n",
       "            },\n",
       "            \"metric_value_kwargs\": null\n",
       "          },\n",
       "          \"num_batches\": 36,\n",
       "          \"mode\": \"multi_batch\"\n",
       "        }\n",
       "      },\n",
       "      \"kwargs\": {\n",
       "        \"column\": \"total_amount\",\n",
       "        \"mostly\": 1.0\n",
       "      }\n",
       "    }\n",
       "  ],\n",
       "  \"meta\": {\n",
       "    \"great_expectations_version\": \"0.17.8+13.gf73a6aa7f.dirty\",\n",
       "    \"citations\": [\n",
       "      {\n",
       "        \"citation_date\": \"2023-08-10T22:20:19.910449Z\",\n",
       "        \"comment\": \"Created by effective Rule-Based Profiler of ColumnValueMissingDataAssistant with the configuration included.\\n\"\n",
       "      }\n",
       "    ]\n",
       "  },\n",
       "  \"expectation_suite_name\": \"my_custom_expectation_suite_name\",\n",
       "  \"data_asset_type\": null,\n",
       "  \"ge_cloud_id\": null\n",
       "}"
      ]
     },
     "execution_count": 126,
     "metadata": {},
     "output_type": "execute_result"
    }
   ],
   "source": [
    "\n",
    "# Save your Expectation Suite\n",
    "\n",
    "# Get the expectation suite from the Data Assistant Result\n",
    "# This creates a new expectation suite containing the expectations from the Data Assistant Result\n",
    "expectation_suite = data_assistant_result.get_expectation_suite(\n",
    "    expectation_suite_name=\"my_custom_expectation_suite_name\"  # Your custom name here\n",
    ")\n",
    "\n",
    "# Add the expectation suite to your Data Context\n",
    "context.add_or_update_expectation_suite(expectation_suite=expectation_suite)\n"
   ]
  },
  {
   "cell_type": "code",
   "execution_count": 127,
   "metadata": {},
   "outputs": [
    {
     "data": {
      "application/vnd.jupyter.widget-view+json": {
       "model_id": "ccad212835fb4009bbfc739241c11364",
       "version_major": 2,
       "version_minor": 0
      },
      "text/plain": [
       "Calculating Metrics:   0%|          | 0/23 [00:00<?, ?it/s]"
      ]
     },
     "metadata": {},
     "output_type": "display_data"
    },
    {
     "data": {
      "application/vnd.jupyter.widget-view+json": {
       "model_id": "14e3f3eeabe242ec936ef29cf1752aeb",
       "version_major": 2,
       "version_minor": 0
      },
      "text/plain": [
       "Calculating Metrics:   0%|          | 0/23 [00:00<?, ?it/s]"
      ]
     },
     "metadata": {},
     "output_type": "display_data"
    },
    {
     "data": {
      "application/vnd.jupyter.widget-view+json": {
       "model_id": "d5691187afff447e94632d5d367814af",
       "version_major": 2,
       "version_minor": 0
      },
      "text/plain": [
       "Calculating Metrics:   0%|          | 0/23 [00:00<?, ?it/s]"
      ]
     },
     "metadata": {},
     "output_type": "display_data"
    },
    {
     "data": {
      "application/vnd.jupyter.widget-view+json": {
       "model_id": "0c55606bcae34548999204bb9631749d",
       "version_major": 2,
       "version_minor": 0
      },
      "text/plain": [
       "Calculating Metrics:   0%|          | 0/23 [00:00<?, ?it/s]"
      ]
     },
     "metadata": {},
     "output_type": "display_data"
    },
    {
     "data": {
      "application/vnd.jupyter.widget-view+json": {
       "model_id": "f4e2b74b35004fdd87fdf8f2ee912e6c",
       "version_major": 2,
       "version_minor": 0
      },
      "text/plain": [
       "Calculating Metrics:   0%|          | 0/23 [00:00<?, ?it/s]"
      ]
     },
     "metadata": {},
     "output_type": "display_data"
    },
    {
     "data": {
      "application/vnd.jupyter.widget-view+json": {
       "model_id": "9283762b8ecc427b8e3b6a603790c5a7",
       "version_major": 2,
       "version_minor": 0
      },
      "text/plain": [
       "Calculating Metrics:   0%|          | 0/23 [00:00<?, ?it/s]"
      ]
     },
     "metadata": {},
     "output_type": "display_data"
    },
    {
     "data": {
      "application/vnd.jupyter.widget-view+json": {
       "model_id": "580a27114706402cb6352e1ce9c54e13",
       "version_major": 2,
       "version_minor": 0
      },
      "text/plain": [
       "Calculating Metrics:   0%|          | 0/23 [00:00<?, ?it/s]"
      ]
     },
     "metadata": {},
     "output_type": "display_data"
    },
    {
     "data": {
      "application/vnd.jupyter.widget-view+json": {
       "model_id": "a4763d64cb3347c393e191373383368f",
       "version_major": 2,
       "version_minor": 0
      },
      "text/plain": [
       "Calculating Metrics:   0%|          | 0/23 [00:00<?, ?it/s]"
      ]
     },
     "metadata": {},
     "output_type": "display_data"
    },
    {
     "data": {
      "application/vnd.jupyter.widget-view+json": {
       "model_id": "3523641811d940a59ba530f250cbc08b",
       "version_major": 2,
       "version_minor": 0
      },
      "text/plain": [
       "Calculating Metrics:   0%|          | 0/23 [00:00<?, ?it/s]"
      ]
     },
     "metadata": {},
     "output_type": "display_data"
    },
    {
     "data": {
      "application/vnd.jupyter.widget-view+json": {
       "model_id": "a0c3c4ff91d54517af9eaac06d071cbc",
       "version_major": 2,
       "version_minor": 0
      },
      "text/plain": [
       "Calculating Metrics:   0%|          | 0/23 [00:00<?, ?it/s]"
      ]
     },
     "metadata": {},
     "output_type": "display_data"
    },
    {
     "data": {
      "application/vnd.jupyter.widget-view+json": {
       "model_id": "bf0f015d152840e28551d04fabd1fa2e",
       "version_major": 2,
       "version_minor": 0
      },
      "text/plain": [
       "Calculating Metrics:   0%|          | 0/23 [00:00<?, ?it/s]"
      ]
     },
     "metadata": {},
     "output_type": "display_data"
    },
    {
     "data": {
      "application/vnd.jupyter.widget-view+json": {
       "model_id": "41c19ef1aadd489b8834aed43f538ff2",
       "version_major": 2,
       "version_minor": 0
      },
      "text/plain": [
       "Calculating Metrics:   0%|          | 0/23 [00:00<?, ?it/s]"
      ]
     },
     "metadata": {},
     "output_type": "display_data"
    },
    {
     "data": {
      "application/vnd.jupyter.widget-view+json": {
       "model_id": "03646edd4a524ad988583b8367224ff0",
       "version_major": 2,
       "version_minor": 0
      },
      "text/plain": [
       "Calculating Metrics:   0%|          | 0/23 [00:00<?, ?it/s]"
      ]
     },
     "metadata": {},
     "output_type": "display_data"
    },
    {
     "data": {
      "application/vnd.jupyter.widget-view+json": {
       "model_id": "6fd3bb3cc3ee43808c81f6f96570ae1b",
       "version_major": 2,
       "version_minor": 0
      },
      "text/plain": [
       "Calculating Metrics:   0%|          | 0/23 [00:00<?, ?it/s]"
      ]
     },
     "metadata": {},
     "output_type": "display_data"
    },
    {
     "data": {
      "application/vnd.jupyter.widget-view+json": {
       "model_id": "43931e632a3b4a50b818fd38d21af56a",
       "version_major": 2,
       "version_minor": 0
      },
      "text/plain": [
       "Calculating Metrics:   0%|          | 0/23 [00:00<?, ?it/s]"
      ]
     },
     "metadata": {},
     "output_type": "display_data"
    },
    {
     "data": {
      "application/vnd.jupyter.widget-view+json": {
       "model_id": "c189518a3ad04308a58193b3fb5ab937",
       "version_major": 2,
       "version_minor": 0
      },
      "text/plain": [
       "Calculating Metrics:   0%|          | 0/23 [00:00<?, ?it/s]"
      ]
     },
     "metadata": {},
     "output_type": "display_data"
    },
    {
     "data": {
      "application/vnd.jupyter.widget-view+json": {
       "model_id": "3d2ccc31c47a4041bcc99cefef8e3529",
       "version_major": 2,
       "version_minor": 0
      },
      "text/plain": [
       "Calculating Metrics:   0%|          | 0/23 [00:00<?, ?it/s]"
      ]
     },
     "metadata": {},
     "output_type": "display_data"
    },
    {
     "data": {
      "application/vnd.jupyter.widget-view+json": {
       "model_id": "33bf8ed46c1449aba8ba0738f85d3ca1",
       "version_major": 2,
       "version_minor": 0
      },
      "text/plain": [
       "Calculating Metrics:   0%|          | 0/23 [00:00<?, ?it/s]"
      ]
     },
     "metadata": {},
     "output_type": "display_data"
    },
    {
     "data": {
      "application/vnd.jupyter.widget-view+json": {
       "model_id": "a49a0bde9e2448d3a7776ff9b6127ae4",
       "version_major": 2,
       "version_minor": 0
      },
      "text/plain": [
       "Calculating Metrics:   0%|          | 0/23 [00:00<?, ?it/s]"
      ]
     },
     "metadata": {},
     "output_type": "display_data"
    },
    {
     "data": {
      "application/vnd.jupyter.widget-view+json": {
       "model_id": "7b293ec8ff214120bf440a0c8661f156",
       "version_major": 2,
       "version_minor": 0
      },
      "text/plain": [
       "Calculating Metrics:   0%|          | 0/23 [00:00<?, ?it/s]"
      ]
     },
     "metadata": {},
     "output_type": "display_data"
    },
    {
     "data": {
      "application/vnd.jupyter.widget-view+json": {
       "model_id": "05025a2f102b49d5828d9be4efae1412",
       "version_major": 2,
       "version_minor": 0
      },
      "text/plain": [
       "Calculating Metrics:   0%|          | 0/23 [00:00<?, ?it/s]"
      ]
     },
     "metadata": {},
     "output_type": "display_data"
    },
    {
     "data": {
      "application/vnd.jupyter.widget-view+json": {
       "model_id": "ea1d7ee8bf414454950b36e815de347b",
       "version_major": 2,
       "version_minor": 0
      },
      "text/plain": [
       "Calculating Metrics:   0%|          | 0/23 [00:00<?, ?it/s]"
      ]
     },
     "metadata": {},
     "output_type": "display_data"
    },
    {
     "data": {
      "application/vnd.jupyter.widget-view+json": {
       "model_id": "28ee55a64cec4476a313bc768fc28ecb",
       "version_major": 2,
       "version_minor": 0
      },
      "text/plain": [
       "Calculating Metrics:   0%|          | 0/23 [00:00<?, ?it/s]"
      ]
     },
     "metadata": {},
     "output_type": "display_data"
    },
    {
     "data": {
      "application/vnd.jupyter.widget-view+json": {
       "model_id": "91c3e5a0c47749078ee5f8c91cc66f94",
       "version_major": 2,
       "version_minor": 0
      },
      "text/plain": [
       "Calculating Metrics:   0%|          | 0/23 [00:00<?, ?it/s]"
      ]
     },
     "metadata": {},
     "output_type": "display_data"
    },
    {
     "data": {
      "application/vnd.jupyter.widget-view+json": {
       "model_id": "246f6cc338774765be0aef338d7f7bbb",
       "version_major": 2,
       "version_minor": 0
      },
      "text/plain": [
       "Calculating Metrics:   0%|          | 0/23 [00:00<?, ?it/s]"
      ]
     },
     "metadata": {},
     "output_type": "display_data"
    },
    {
     "data": {
      "application/vnd.jupyter.widget-view+json": {
       "model_id": "ae21272eaf4740c5ab8c6feeb6761c3c",
       "version_major": 2,
       "version_minor": 0
      },
      "text/plain": [
       "Calculating Metrics:   0%|          | 0/23 [00:00<?, ?it/s]"
      ]
     },
     "metadata": {},
     "output_type": "display_data"
    },
    {
     "data": {
      "application/vnd.jupyter.widget-view+json": {
       "model_id": "8995f829bdde45ea99e960734ed8fa43",
       "version_major": 2,
       "version_minor": 0
      },
      "text/plain": [
       "Calculating Metrics:   0%|          | 0/23 [00:00<?, ?it/s]"
      ]
     },
     "metadata": {},
     "output_type": "display_data"
    },
    {
     "data": {
      "application/vnd.jupyter.widget-view+json": {
       "model_id": "8d0d30bf76214033906f5e99333589e9",
       "version_major": 2,
       "version_minor": 0
      },
      "text/plain": [
       "Calculating Metrics:   0%|          | 0/23 [00:00<?, ?it/s]"
      ]
     },
     "metadata": {},
     "output_type": "display_data"
    },
    {
     "data": {
      "application/vnd.jupyter.widget-view+json": {
       "model_id": "30e4aacf4e72422fa9e870a13aa93d5f",
       "version_major": 2,
       "version_minor": 0
      },
      "text/plain": [
       "Calculating Metrics:   0%|          | 0/23 [00:00<?, ?it/s]"
      ]
     },
     "metadata": {},
     "output_type": "display_data"
    },
    {
     "data": {
      "application/vnd.jupyter.widget-view+json": {
       "model_id": "6ebe196f0f3441229b7008452ba62154",
       "version_major": 2,
       "version_minor": 0
      },
      "text/plain": [
       "Calculating Metrics:   0%|          | 0/23 [00:00<?, ?it/s]"
      ]
     },
     "metadata": {},
     "output_type": "display_data"
    },
    {
     "data": {
      "application/vnd.jupyter.widget-view+json": {
       "model_id": "63908209d9d7404eba327834de28e62c",
       "version_major": 2,
       "version_minor": 0
      },
      "text/plain": [
       "Calculating Metrics:   0%|          | 0/23 [00:00<?, ?it/s]"
      ]
     },
     "metadata": {},
     "output_type": "display_data"
    },
    {
     "data": {
      "application/vnd.jupyter.widget-view+json": {
       "model_id": "da41d0e719644d39acdd219547cd16e4",
       "version_major": 2,
       "version_minor": 0
      },
      "text/plain": [
       "Calculating Metrics:   0%|          | 0/23 [00:00<?, ?it/s]"
      ]
     },
     "metadata": {},
     "output_type": "display_data"
    },
    {
     "data": {
      "application/vnd.jupyter.widget-view+json": {
       "model_id": "6be04d43aeca46ff9381c85544c27a8f",
       "version_major": 2,
       "version_minor": 0
      },
      "text/plain": [
       "Calculating Metrics:   0%|          | 0/23 [00:00<?, ?it/s]"
      ]
     },
     "metadata": {},
     "output_type": "display_data"
    },
    {
     "data": {
      "application/vnd.jupyter.widget-view+json": {
       "model_id": "85ef9669aaa04d63b607cc870a585c4d",
       "version_major": 2,
       "version_minor": 0
      },
      "text/plain": [
       "Calculating Metrics:   0%|          | 0/23 [00:00<?, ?it/s]"
      ]
     },
     "metadata": {},
     "output_type": "display_data"
    },
    {
     "data": {
      "application/vnd.jupyter.widget-view+json": {
       "model_id": "51276a4a3324482fad5ae946681d586c",
       "version_major": 2,
       "version_minor": 0
      },
      "text/plain": [
       "Calculating Metrics:   0%|          | 0/23 [00:00<?, ?it/s]"
      ]
     },
     "metadata": {},
     "output_type": "display_data"
    },
    {
     "data": {
      "application/vnd.jupyter.widget-view+json": {
       "model_id": "318207ba08ea4328aab6e03b4ee7e283",
       "version_major": 2,
       "version_minor": 0
      },
      "text/plain": [
       "Calculating Metrics:   0%|          | 0/23 [00:00<?, ?it/s]"
      ]
     },
     "metadata": {},
     "output_type": "display_data"
    }
   ],
   "source": [
    "\n",
    "# # Save the expectation suite from Data Context to validator to be able to use it in a Checkpoint\n",
    "# validator.expectation_suite_name =\"my_custom_expectation_suite_name\"\n",
    "validator.expectation_suite = expectation_suite\n",
    "# Use a Checkpoint to verify that your new Expectation Suite works.\n",
    "checkpoint = context.add_or_update_checkpoint(\n",
    "    name=\"yellow_tripdata_sample_all_years_checkpoint\",\n",
    "    validator=validator,\n",
    ")\n",
    "checkpoint_result = checkpoint.run(run_name=\"my_run_name\")\n",
    "\n",
    "assert checkpoint_result[\"success\"] is True"
   ]
  },
  {
   "cell_type": "code",
   "execution_count": 128,
   "metadata": {},
   "outputs": [
    {
     "name": "stdout",
     "output_type": "stream",
     "text": [
      "64 Metrics calculated, 16 Metric plots implemented\n",
      "Use DataAssistantResult.metrics_by_domain to show all calculated Metrics\n"
     ]
    },
    {
     "data": {
      "text/html": [
       "\n",
       "                <style>\n",
       "                @import url('https://fonts.googleapis.com/css2?family=Montserrat:wght@500;600&display=swap');\n",
       "                </style>\n",
       "                "
      ],
      "text/plain": [
       "<IPython.core.display.HTML object>"
      ]
     },
     "metadata": {},
     "output_type": "display_data"
    },
    {
     "data": {
      "text/html": [
       "\n",
       "                <style>\n",
       "                span.vega-bind-name {\n",
       "                    color: #404041;\n",
       "                    font-family: Montserrat;\n",
       "                    font-size: 14px;\n",
       "                    font-weight: 500;\n",
       "                }\n",
       "                form.vega-bindings {\n",
       "                    color: #404041;\n",
       "                    font-family: Montserrat;\n",
       "                    font-size: 14px;\n",
       "                    font-weight: 500;\n",
       "                    position: absolute;\n",
       "                    left: 75px;\n",
       "                    top: 28px;\n",
       "                }\n",
       "                </style>\n",
       "            "
      ],
      "text/plain": [
       "<IPython.core.display.HTML object>"
      ]
     },
     "metadata": {},
     "output_type": "display_data"
    },
    {
     "data": {
      "text/html": [
       "\n",
       "                <style>\n",
       "                .widget-inline-hbox .widget-label {\n",
       "                    color: #404041;\n",
       "                    font-family: Montserrat;\n",
       "                    font-size: 14px;\n",
       "                    font-weight: 500;\n",
       "                }\n",
       "                .widget-dropdown > select {\n",
       "                    padding-right: 21px;\n",
       "                    padding-left: 3px;\n",
       "                    color: #404041;\n",
       "                    font-family: Montserrat;\n",
       "                    font-size: 14px;\n",
       "                    font-weight: 500;\n",
       "                    height: 20px;\n",
       "                    line-height: 14px;\n",
       "                    background-size: 20px;\n",
       "                    border-radius: 2px;\n",
       "                }\n",
       "                </style>\n",
       "            "
      ],
      "text/plain": [
       "<IPython.core.display.HTML object>"
      ]
     },
     "metadata": {},
     "output_type": "display_data"
    },
    {
     "data": {
      "application/vnd.jupyter.widget-view+json": {
       "model_id": "13764bc738dd4d57a89c60061fe09da7",
       "version_major": 2,
       "version_minor": 0
      },
      "text/plain": [
       "interactive(children=(Dropdown(description='Select Plot Type: ', layout=Layout(margin='0px', width='max-conten…"
      ]
     },
     "metadata": {},
     "output_type": "display_data"
    },
    {
     "data": {
      "text/plain": []
     },
     "execution_count": 128,
     "metadata": {},
     "output_type": "execute_result"
    }
   ],
   "source": [
    "# To view the metrics that were computed, you can use the `plot_metrics` method:\n",
    "\n",
    "data_assistant_result.plot_metrics()"
   ]
  },
  {
   "cell_type": "code",
   "execution_count": 129,
   "metadata": {},
   "outputs": [
    {
     "data": {
      "text/plain": [
       "{'local_site': 'file:///var/folders/9w/qsyh30616nq8frx877b3pyzm0000gn/T/tmpcga59abh/index.html'}"
      ]
     },
     "execution_count": 129,
     "metadata": {},
     "output_type": "execute_result"
    }
   ],
   "source": [
    "context.build_data_docs()\n"
   ]
  },
  {
   "cell_type": "code",
   "execution_count": null,
   "metadata": {},
   "outputs": [],
   "source": [
    "\n",
    "context.open_data_docs()\n"
   ]
  }
 ],
 "metadata": {
  "kernelspec": {
   "display_name": "gx_dev",
   "language": "python",
   "name": "python3"
  },
  "language_info": {
   "codemirror_mode": {
    "name": "ipython",
    "version": 3
   },
   "file_extension": ".py",
   "mimetype": "text/x-python",
   "name": "python",
   "nbconvert_exporter": "python",
   "pygments_lexer": "ipython3",
   "version": "3.9.6"
  },
  "orig_nbformat": 4
 },
 "nbformat": 4,
 "nbformat_minor": 2
}

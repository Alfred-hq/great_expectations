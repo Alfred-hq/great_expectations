{
 "cells": [
  {
   "cell_type": "code",
   "execution_count": 71,
   "metadata": {},
   "outputs": [],
   "source": [
    "\"\"\"Example: How to create an Expectation Suite with the Missingness Data Assistant\n",
    "\n",
    "--documentation--\n",
    "    https://docs.greatexpectations.io/docs/guides/expectations/data_assistants/how_to_create_an_expectation_suite_with_the_missingness_data_assistant\n",
    "\"\"\"\n",
    "import great_expectations as gx\n",
    "\n",
    "context = gx.get_context()"
   ]
  },
  {
   "cell_type": "code",
   "execution_count": 72,
   "metadata": {},
   "outputs": [],
   "source": [
    "# Read data in to get validator\n",
    " \n",
    "datasource = context.sources.add_pandas_filesystem(\n",
    "    name=\"taxi_multi_batch_datasource\",  # custom name to assign to new datasource, can be used to retrieve datasource later\n",
    "    base_directory=\"../../tests/test_sets/taxi_yellow_tripdata_samples/\",  # replace with your data directory\n",
    ")\n",
    "    \n",
    "validator = datasource.read_csv(\n",
    "    asset_name=\"all_years\",   # custom name to assign to the asset, can be used to retrieve asset later\n",
    "    batching_regex=r\"yellow_tripdata_sample_(?P<year>\\d{4})-(?P<month>\\d{2})\\.csv\",\n",
    ")\n"
   ]
  },
  {
   "cell_type": "code",
   "execution_count": 73,
   "metadata": {},
   "outputs": [
    {
     "name": "stdout",
     "output_type": "stream",
     "text": [
      "\n"
     ]
    },
    {
     "data": {
      "application/vnd.jupyter.widget-view+json": {
       "model_id": "80e5098fb6e74e5991b265941af0f6af",
       "version_major": 2,
       "version_minor": 0
      },
      "text/plain": [
       "Generating Expectations:   0%|          | 0/1 [00:00<?, ?it/s]"
      ]
     },
     "metadata": {},
     "output_type": "display_data"
    },
    {
     "data": {
      "application/vnd.jupyter.widget-view+json": {
       "model_id": "368e4b167fa944ed9e48be75c49381d3",
       "version_major": 2,
       "version_minor": 0
      },
      "text/plain": [
       "Calculating Metrics:   0%|          | 0/2 [00:00<?, ?it/s]"
      ]
     },
     "metadata": {},
     "output_type": "display_data"
    },
    {
     "data": {
      "application/vnd.jupyter.widget-view+json": {
       "model_id": "76fc077d8280428da4bddcb8a0af50f9",
       "version_major": 2,
       "version_minor": 0
      },
      "text/plain": [
       "Calculating Metrics:   0%|          | 0/1 [00:00<?, ?it/s]"
      ]
     },
     "metadata": {},
     "output_type": "display_data"
    },
    {
     "data": {
      "application/vnd.jupyter.widget-view+json": {
       "model_id": "7b154631eec54f04bf2fdfdff5d89e21",
       "version_major": 2,
       "version_minor": 0
      },
      "text/plain": [
       "Profiling Dataset:         0%|          | 0/8 [00:00<?, ?it/s]"
      ]
     },
     "metadata": {},
     "output_type": "display_data"
    },
    {
     "data": {
      "application/vnd.jupyter.widget-view+json": {
       "model_id": "cb6b1597fa124d54a1124799222ac6fe",
       "version_major": 2,
       "version_minor": 0
      },
      "text/plain": [
       "Calculating Metrics:   0%|          | 0/180 [00:00<?, ?it/s]"
      ]
     },
     "metadata": {},
     "output_type": "display_data"
    },
    {
     "data": {
      "application/vnd.jupyter.widget-view+json": {
       "model_id": "b99fedf61d7b4e11916f0951f6836c79",
       "version_major": 2,
       "version_minor": 0
      },
      "text/plain": [
       "Calculating Metrics:   0%|          | 0/36 [00:00<?, ?it/s]"
      ]
     },
     "metadata": {},
     "output_type": "display_data"
    },
    {
     "data": {
      "application/vnd.jupyter.widget-view+json": {
       "model_id": "0791b9f929e04031852c8e093cdb65b1",
       "version_major": 2,
       "version_minor": 0
      },
      "text/plain": [
       "Calculating Metrics:   0%|          | 0/180 [00:00<?, ?it/s]"
      ]
     },
     "metadata": {},
     "output_type": "display_data"
    },
    {
     "data": {
      "application/vnd.jupyter.widget-view+json": {
       "model_id": "a2309437873c4c3a9af79ace65aafc77",
       "version_major": 2,
       "version_minor": 0
      },
      "text/plain": [
       "Calculating Metrics:   0%|          | 0/180 [00:00<?, ?it/s]"
      ]
     },
     "metadata": {},
     "output_type": "display_data"
    },
    {
     "data": {
      "application/vnd.jupyter.widget-view+json": {
       "model_id": "5e349682bce44a3da80734ac0d732b93",
       "version_major": 2,
       "version_minor": 0
      },
      "text/plain": [
       "Calculating Metrics:   0%|          | 0/36 [00:00<?, ?it/s]"
      ]
     },
     "metadata": {},
     "output_type": "display_data"
    },
    {
     "data": {
      "application/vnd.jupyter.widget-view+json": {
       "model_id": "080d32eab30842c9aaf72141dd7c4a59",
       "version_major": 2,
       "version_minor": 0
      },
      "text/plain": [
       "Calculating Metrics:   0%|          | 0/180 [00:00<?, ?it/s]"
      ]
     },
     "metadata": {},
     "output_type": "display_data"
    },
    {
     "data": {
      "application/vnd.jupyter.widget-view+json": {
       "model_id": "4266c8f79a034b208b6446b0eaf17e79",
       "version_major": 2,
       "version_minor": 0
      },
      "text/plain": [
       "Calculating Metrics:   0%|          | 0/180 [00:00<?, ?it/s]"
      ]
     },
     "metadata": {},
     "output_type": "display_data"
    },
    {
     "data": {
      "application/vnd.jupyter.widget-view+json": {
       "model_id": "bae3de86bb5a4a10b765a2fa718d87bc",
       "version_major": 2,
       "version_minor": 0
      },
      "text/plain": [
       "Calculating Metrics:   0%|          | 0/36 [00:00<?, ?it/s]"
      ]
     },
     "metadata": {},
     "output_type": "display_data"
    },
    {
     "data": {
      "application/vnd.jupyter.widget-view+json": {
       "model_id": "6c38f2ca43f1404a89a20f73f6e83ade",
       "version_major": 2,
       "version_minor": 0
      },
      "text/plain": [
       "Calculating Metrics:   0%|          | 0/180 [00:00<?, ?it/s]"
      ]
     },
     "metadata": {},
     "output_type": "display_data"
    },
    {
     "data": {
      "application/vnd.jupyter.widget-view+json": {
       "model_id": "bf66c68844ff467e9667a60ea75c166a",
       "version_major": 2,
       "version_minor": 0
      },
      "text/plain": [
       "Calculating Metrics:   0%|          | 0/180 [00:00<?, ?it/s]"
      ]
     },
     "metadata": {},
     "output_type": "display_data"
    },
    {
     "data": {
      "application/vnd.jupyter.widget-view+json": {
       "model_id": "5b07bb8e26d242039c8b916a76df5425",
       "version_major": 2,
       "version_minor": 0
      },
      "text/plain": [
       "Calculating Metrics:   0%|          | 0/36 [00:00<?, ?it/s]"
      ]
     },
     "metadata": {},
     "output_type": "display_data"
    },
    {
     "data": {
      "application/vnd.jupyter.widget-view+json": {
       "model_id": "57c9ac655922486a85647b0e10479cd9",
       "version_major": 2,
       "version_minor": 0
      },
      "text/plain": [
       "Calculating Metrics:   0%|          | 0/180 [00:00<?, ?it/s]"
      ]
     },
     "metadata": {},
     "output_type": "display_data"
    },
    {
     "data": {
      "application/vnd.jupyter.widget-view+json": {
       "model_id": "eee7c6f547864f579750fc26373686f1",
       "version_major": 2,
       "version_minor": 0
      },
      "text/plain": [
       "Calculating Metrics:   0%|          | 0/180 [00:00<?, ?it/s]"
      ]
     },
     "metadata": {},
     "output_type": "display_data"
    },
    {
     "data": {
      "application/vnd.jupyter.widget-view+json": {
       "model_id": "06639b5e5a994986ba0884596085aae6",
       "version_major": 2,
       "version_minor": 0
      },
      "text/plain": [
       "Calculating Metrics:   0%|          | 0/36 [00:00<?, ?it/s]"
      ]
     },
     "metadata": {},
     "output_type": "display_data"
    },
    {
     "data": {
      "application/vnd.jupyter.widget-view+json": {
       "model_id": "d7f758bb2d874a20966f1c1b967d4769",
       "version_major": 2,
       "version_minor": 0
      },
      "text/plain": [
       "Calculating Metrics:   0%|          | 0/180 [00:00<?, ?it/s]"
      ]
     },
     "metadata": {},
     "output_type": "display_data"
    },
    {
     "data": {
      "application/vnd.jupyter.widget-view+json": {
       "model_id": "c2231f96c34c4a90b0dc139a1f6da03d",
       "version_major": 2,
       "version_minor": 0
      },
      "text/plain": [
       "Calculating Metrics:   0%|          | 0/180 [00:00<?, ?it/s]"
      ]
     },
     "metadata": {},
     "output_type": "display_data"
    },
    {
     "data": {
      "application/vnd.jupyter.widget-view+json": {
       "model_id": "7888026a1cbf45cfb5111c3da4e7a178",
       "version_major": 2,
       "version_minor": 0
      },
      "text/plain": [
       "Calculating Metrics:   0%|          | 0/36 [00:00<?, ?it/s]"
      ]
     },
     "metadata": {},
     "output_type": "display_data"
    },
    {
     "data": {
      "application/vnd.jupyter.widget-view+json": {
       "model_id": "97b2ed5f8ac744ecaf6b94a383dcf2ee",
       "version_major": 2,
       "version_minor": 0
      },
      "text/plain": [
       "Calculating Metrics:   0%|          | 0/180 [00:00<?, ?it/s]"
      ]
     },
     "metadata": {},
     "output_type": "display_data"
    },
    {
     "data": {
      "application/vnd.jupyter.widget-view+json": {
       "model_id": "f1340b97a49b454eb30b0ab4272ae647",
       "version_major": 2,
       "version_minor": 0
      },
      "text/plain": [
       "Calculating Metrics:   0%|          | 0/180 [00:00<?, ?it/s]"
      ]
     },
     "metadata": {},
     "output_type": "display_data"
    },
    {
     "data": {
      "application/vnd.jupyter.widget-view+json": {
       "model_id": "379c964924d74363ba02fec9a4025a01",
       "version_major": 2,
       "version_minor": 0
      },
      "text/plain": [
       "Calculating Metrics:   0%|          | 0/36 [00:00<?, ?it/s]"
      ]
     },
     "metadata": {},
     "output_type": "display_data"
    },
    {
     "data": {
      "application/vnd.jupyter.widget-view+json": {
       "model_id": "01ed6f7848f54e6db27b9565a1d27ee2",
       "version_major": 2,
       "version_minor": 0
      },
      "text/plain": [
       "Calculating Metrics:   0%|          | 0/180 [00:00<?, ?it/s]"
      ]
     },
     "metadata": {},
     "output_type": "display_data"
    },
    {
     "data": {
      "application/vnd.jupyter.widget-view+json": {
       "model_id": "78df205fdb754781ad43a5d624e4216f",
       "version_major": 2,
       "version_minor": 0
      },
      "text/plain": [
       "Calculating Metrics:   0%|          | 0/180 [00:00<?, ?it/s]"
      ]
     },
     "metadata": {},
     "output_type": "display_data"
    },
    {
     "data": {
      "application/vnd.jupyter.widget-view+json": {
       "model_id": "0166db6413234aafb979f679e0bbf821",
       "version_major": 2,
       "version_minor": 0
      },
      "text/plain": [
       "Calculating Metrics:   0%|          | 0/36 [00:00<?, ?it/s]"
      ]
     },
     "metadata": {},
     "output_type": "display_data"
    },
    {
     "data": {
      "application/vnd.jupyter.widget-view+json": {
       "model_id": "967a292e4b9b48359a4083fa653086b1",
       "version_major": 2,
       "version_minor": 0
      },
      "text/plain": [
       "Calculating Metrics:   0%|          | 0/180 [00:00<?, ?it/s]"
      ]
     },
     "metadata": {},
     "output_type": "display_data"
    }
   ],
   "source": [
    "\n",
    "# Run the Missingness Assistant\n",
    "\n",
    "exclude_column_names = [\n",
    "    \"VendorID\",\n",
    "    \"pickup_datetime\",\n",
    "    \"dropoff_datetime\",\n",
    "    \"RatecodeID\",\n",
    "    \"PULocationID\",\n",
    "    \"DOLocationID\",\n",
    "    \"payment_type\",\n",
    "    \"fare_amount\",\n",
    "    \"extra\",\n",
    "    \"mta_tax\",\n",
    "    \"tip_amount\",\n",
    "    \"tolls_amount\",\n",
    "    \"improvement_surcharge\",\n",
    "    \"congestion_surcharge\",\n",
    "]\n",
    "\n",
    "data_assistant_result = context.assistants.missingness.run(\n",
    "    validator=validator,\n",
    "    exclude_column_names=exclude_column_names,\n",
    "    \n",
    ")\n"
   ]
  },
  {
   "cell_type": "code",
   "execution_count": 74,
   "metadata": {},
   "outputs": [
    {
     "name": "stdout",
     "output_type": "stream",
     "text": [
      "[ { 'expect_column_values_to_not_be_null': { 'column': 'trip_distance',\n",
      "                                             'domain': 'column',\n",
      "                                             'mostly': 1.0}},\n",
      "  { 'expect_column_values_to_not_be_null': { 'column': 'pickup_location_id',\n",
      "                                             'domain': 'column',\n",
      "                                             'mostly': 1.0}},\n",
      "  { 'expect_column_values_to_not_be_null': { 'column': 'dropoff_location_id',\n",
      "                                             'domain': 'column',\n",
      "                                             'mostly': 1.0}},\n",
      "  { 'expect_column_values_to_not_be_null': { 'column': 'total_amount',\n",
      "                                             'domain': 'column',\n",
      "                                             'mostly': 1.0}}]\n"
     ]
    }
   ],
   "source": [
    "# View generated expectations\n",
    "\n",
    "data_assistant_result.show_expectations_by_expectation_type()\n"
   ]
  },
  {
   "cell_type": "code",
   "execution_count": 75,
   "metadata": {},
   "outputs": [
    {
     "data": {
      "text/plain": [
       "{\n",
       "  \"expectations\": [\n",
       "    {\n",
       "      \"expectation_type\": \"expect_column_values_to_not_be_null\",\n",
       "      \"meta\": {\n",
       "        \"profiler_details\": {\n",
       "          \"metric_configuration\": {\n",
       "            \"metric_name\": \"column_values.nonnull.unexpected_count\",\n",
       "            \"domain_kwargs\": {\n",
       "              \"column\": \"trip_distance\"\n",
       "            },\n",
       "            \"metric_value_kwargs\": null\n",
       "          },\n",
       "          \"num_batches\": 36,\n",
       "          \"mode\": \"multi_batch\"\n",
       "        }\n",
       "      },\n",
       "      \"kwargs\": {\n",
       "        \"column\": \"trip_distance\",\n",
       "        \"mostly\": 1.0\n",
       "      }\n",
       "    },\n",
       "    {\n",
       "      \"expectation_type\": \"expect_column_values_to_not_be_null\",\n",
       "      \"meta\": {\n",
       "        \"profiler_details\": {\n",
       "          \"metric_configuration\": {\n",
       "            \"metric_name\": \"column_values.nonnull.unexpected_count\",\n",
       "            \"domain_kwargs\": {\n",
       "              \"column\": \"pickup_location_id\"\n",
       "            },\n",
       "            \"metric_value_kwargs\": null\n",
       "          },\n",
       "          \"num_batches\": 36,\n",
       "          \"mode\": \"multi_batch\"\n",
       "        }\n",
       "      },\n",
       "      \"kwargs\": {\n",
       "        \"column\": \"pickup_location_id\",\n",
       "        \"mostly\": 1.0\n",
       "      }\n",
       "    },\n",
       "    {\n",
       "      \"expectation_type\": \"expect_column_values_to_not_be_null\",\n",
       "      \"meta\": {\n",
       "        \"profiler_details\": {\n",
       "          \"metric_configuration\": {\n",
       "            \"metric_name\": \"column_values.nonnull.unexpected_count\",\n",
       "            \"domain_kwargs\": {\n",
       "              \"column\": \"dropoff_location_id\"\n",
       "            },\n",
       "            \"metric_value_kwargs\": null\n",
       "          },\n",
       "          \"num_batches\": 36,\n",
       "          \"mode\": \"multi_batch\"\n",
       "        }\n",
       "      },\n",
       "      \"kwargs\": {\n",
       "        \"column\": \"dropoff_location_id\",\n",
       "        \"mostly\": 1.0\n",
       "      }\n",
       "    },\n",
       "    {\n",
       "      \"expectation_type\": \"expect_column_values_to_not_be_null\",\n",
       "      \"meta\": {\n",
       "        \"profiler_details\": {\n",
       "          \"metric_configuration\": {\n",
       "            \"metric_name\": \"column_values.nonnull.unexpected_count\",\n",
       "            \"domain_kwargs\": {\n",
       "              \"column\": \"total_amount\"\n",
       "            },\n",
       "            \"metric_value_kwargs\": null\n",
       "          },\n",
       "          \"num_batches\": 36,\n",
       "          \"mode\": \"multi_batch\"\n",
       "        }\n",
       "      },\n",
       "      \"kwargs\": {\n",
       "        \"column\": \"total_amount\",\n",
       "        \"mostly\": 1.0\n",
       "      }\n",
       "    }\n",
       "  ],\n",
       "  \"meta\": {\n",
       "    \"great_expectations_version\": \"0.17.8+13.gf73a6aa7f.dirty\",\n",
       "    \"citations\": [\n",
       "      {\n",
       "        \"citation_date\": \"2023-08-09T18:46:01.898564Z\",\n",
       "        \"comment\": \"Created by effective Rule-Based Profiler of ColumnValueMissingDataAssistant with the configuration included.\\n\"\n",
       "      }\n",
       "    ]\n",
       "  },\n",
       "  \"expectation_suite_name\": \"my_custom_expectation_suite_name\",\n",
       "  \"data_asset_type\": null,\n",
       "  \"ge_cloud_id\": null\n",
       "}"
      ]
     },
     "execution_count": 75,
     "metadata": {},
     "output_type": "execute_result"
    }
   ],
   "source": [
    "\n",
    "# Save your Expectation Suite\n",
    "\n",
    "# Get the expectation suite from the Data Assistant Result\n",
    "# This creates a new expectation suite containing the expectations from the Data Assistant Result\n",
    "expectation_suite = data_assistant_result.get_expectation_suite(\n",
    "    expectation_suite_name=\"my_custom_expectation_suite_name\"  # Your custom name here\n",
    ")\n",
    "\n",
    "# Add the expectation suite to your Data Context\n",
    "context.add_or_update_expectation_suite(expectation_suite=expectation_suite)\n"
   ]
  },
  {
   "cell_type": "code",
<<<<<<< Updated upstream
   "execution_count": 76,
   "metadata": {},
   "outputs": [
    {
     "ename": "DataContextError",
     "evalue": "expectation_suite default not found",
     "output_type": "error",
     "traceback": [
      "\u001b[0;31m---------------------------------------------------------------------------\u001b[0m",
      "\u001b[0;31mDataContextError\u001b[0m                          Traceback (most recent call last)",
      "Cell \u001b[0;32mIn[76], line 10\u001b[0m\n\u001b[1;32m      1\u001b[0m \u001b[39m# Save the expectation suite from Data Context to validator to be able to use it in a Checkpoint\u001b[39;00m\n\u001b[1;32m      2\u001b[0m \u001b[39m# validator.save_expectation_suite(discard_failed_expectations=False)\u001b[39;00m\n\u001b[1;32m      3\u001b[0m \n\u001b[1;32m      4\u001b[0m \u001b[39m# Use a Checkpoint to verify that your new Expectation Suite works.\u001b[39;00m\n\u001b[1;32m      5\u001b[0m checkpoint \u001b[39m=\u001b[39m context\u001b[39m.\u001b[39madd_or_update_checkpoint(\n\u001b[1;32m      6\u001b[0m     name\u001b[39m=\u001b[39m\u001b[39m\"\u001b[39m\u001b[39myellow_tripdata_sample_all_years_checkpoint\u001b[39m\u001b[39m\"\u001b[39m,\n\u001b[1;32m      7\u001b[0m     validator\u001b[39m=\u001b[39mvalidator,\n\u001b[1;32m      8\u001b[0m     expectation_suite_name\u001b[39m=\u001b[39m\u001b[39m\"\u001b[39m\u001b[39mmy_custom_expectation_suite_name\u001b[39m\u001b[39m\"\u001b[39m,\n\u001b[1;32m      9\u001b[0m )\n\u001b[0;32m---> 10\u001b[0m checkpoint_result \u001b[39m=\u001b[39m checkpoint\u001b[39m.\u001b[39;49mrun()\n\u001b[1;32m     12\u001b[0m \u001b[39massert\u001b[39;00m checkpoint_result[\u001b[39m\"\u001b[39m\u001b[39msuccess\u001b[39m\u001b[39m\"\u001b[39m] \u001b[39mis\u001b[39;00m \u001b[39mTrue\u001b[39;00m\n",
      "File \u001b[0;32m~/code/work/great_expectations/great_expectations/core/usage_statistics/usage_statistics.py:260\u001b[0m, in \u001b[0;36musage_statistics_enabled_method.<locals>.usage_statistics_wrapped_method\u001b[0;34m(*args, **kwargs)\u001b[0m\n\u001b[1;32m    257\u001b[0m         args_payload \u001b[39m=\u001b[39m args_payload_fn(\u001b[39m*\u001b[39margs, \u001b[39m*\u001b[39m\u001b[39m*\u001b[39mkwargs) \u001b[39mor\u001b[39;00m {}\n\u001b[1;32m    258\u001b[0m         nested_update(event_payload, args_payload)\n\u001b[0;32m--> 260\u001b[0m     result \u001b[39m=\u001b[39m func(\u001b[39m*\u001b[39;49margs, \u001b[39m*\u001b[39;49m\u001b[39m*\u001b[39;49mkwargs)\n\u001b[1;32m    261\u001b[0m     message[\u001b[39m\"\u001b[39m\u001b[39msuccess\u001b[39m\u001b[39m\"\u001b[39m] \u001b[39m=\u001b[39m \u001b[39mTrue\u001b[39;00m\n\u001b[1;32m    262\u001b[0m \u001b[39mexcept\u001b[39;00m \u001b[39mException\u001b[39;00m:\n",
      "File \u001b[0;32m~/code/work/great_expectations/great_expectations/checkpoint/checkpoint.py:304\u001b[0m, in \u001b[0;36mBaseCheckpoint.run\u001b[0;34m(self, template_name, run_name_template, expectation_suite_name, batch_request, validator, action_list, evaluation_parameters, runtime_configuration, validations, profilers, run_id, run_name, run_time, result_format, expectation_suite_ge_cloud_id)\u001b[0m\n\u001b[1;32m    302\u001b[0m \u001b[39mif\u001b[39;00m \u001b[39mlen\u001b[39m(validations) \u001b[39m>\u001b[39m \u001b[39m0\u001b[39m:\n\u001b[1;32m    303\u001b[0m     \u001b[39mfor\u001b[39;00m idx, validation_dict \u001b[39min\u001b[39;00m \u001b[39menumerate\u001b[39m(validations):\n\u001b[0;32m--> 304\u001b[0m         \u001b[39mself\u001b[39;49m\u001b[39m.\u001b[39;49m_run_validation(\n\u001b[1;32m    305\u001b[0m             substituted_runtime_config\u001b[39m=\u001b[39;49msubstituted_runtime_config,\n\u001b[1;32m    306\u001b[0m             async_validation_operator_results\u001b[39m=\u001b[39;49masync_validation_operator_results,\n\u001b[1;32m    307\u001b[0m             async_executor\u001b[39m=\u001b[39;49masync_executor,\n\u001b[1;32m    308\u001b[0m             result_format\u001b[39m=\u001b[39;49mresult_format,\n\u001b[1;32m    309\u001b[0m             run_id\u001b[39m=\u001b[39;49mrun_id,\n\u001b[1;32m    310\u001b[0m             idx\u001b[39m=\u001b[39;49midx,\n\u001b[1;32m    311\u001b[0m             validation_dict\u001b[39m=\u001b[39;49mvalidation_dict,\n\u001b[1;32m    312\u001b[0m         )\n\u001b[1;32m    313\u001b[0m \u001b[39melse\u001b[39;00m:\n\u001b[1;32m    314\u001b[0m     \u001b[39mself\u001b[39m\u001b[39m.\u001b[39m_run_validation(\n\u001b[1;32m    315\u001b[0m         substituted_runtime_config\u001b[39m=\u001b[39msubstituted_runtime_config,\n\u001b[1;32m    316\u001b[0m         async_validation_operator_results\u001b[39m=\u001b[39masync_validation_operator_results,\n\u001b[0;32m   (...)\u001b[0m\n\u001b[1;32m    319\u001b[0m         run_id\u001b[39m=\u001b[39mrun_id,\n\u001b[1;32m    320\u001b[0m     )\n",
      "File \u001b[0;32m~/code/work/great_expectations/great_expectations/checkpoint/checkpoint.py:479\u001b[0m, in \u001b[0;36mBaseCheckpoint._run_validation\u001b[0;34m(self, substituted_runtime_config, async_validation_operator_results, async_executor, result_format, run_id, idx, validation_dict)\u001b[0m\n\u001b[1;32m    474\u001b[0m \u001b[39mif\u001b[39;00m include_rendered_content \u001b[39mis\u001b[39;00m \u001b[39mNone\u001b[39;00m:\n\u001b[1;32m    475\u001b[0m     include_rendered_content \u001b[39m=\u001b[39m (\n\u001b[1;32m    476\u001b[0m         \u001b[39mself\u001b[39m\u001b[39m.\u001b[39m_data_context\u001b[39m.\u001b[39m_determine_if_expectation_validation_result_include_rendered_content()\n\u001b[1;32m    477\u001b[0m     )\n\u001b[0;32m--> 479\u001b[0m validator: Validator \u001b[39m=\u001b[39m \u001b[39mself\u001b[39m\u001b[39m.\u001b[39m_validator \u001b[39mor\u001b[39;00m \u001b[39mself\u001b[39;49m\u001b[39m.\u001b[39;49mdata_context\u001b[39m.\u001b[39;49mget_validator(\n\u001b[1;32m    480\u001b[0m     batch_request\u001b[39m=\u001b[39;49mbatch_request,\n\u001b[1;32m    481\u001b[0m     expectation_suite_name\u001b[39m=\u001b[39;49mexpectation_suite_name\n\u001b[1;32m    482\u001b[0m     \u001b[39mif\u001b[39;49;00m \u001b[39mnot\u001b[39;49;00m \u001b[39mself\u001b[39;49m\u001b[39m.\u001b[39;49m_using_cloud_context\n\u001b[1;32m    483\u001b[0m     \u001b[39melse\u001b[39;49;00m \u001b[39mNone\u001b[39;49;00m,\n\u001b[1;32m    484\u001b[0m     expectation_suite_ge_cloud_id\u001b[39m=\u001b[39;49m(\n\u001b[1;32m    485\u001b[0m         expectation_suite_ge_cloud_id \u001b[39mif\u001b[39;49;00m \u001b[39mself\u001b[39;49m\u001b[39m.\u001b[39;49m_using_cloud_context \u001b[39melse\u001b[39;49;00m \u001b[39mNone\u001b[39;49;00m\n\u001b[1;32m    486\u001b[0m     ),\n\u001b[1;32m    487\u001b[0m     include_rendered_content\u001b[39m=\u001b[39;49minclude_rendered_content,\n\u001b[1;32m    488\u001b[0m )\n\u001b[1;32m    490\u001b[0m action_list: Sequence[ActionDict] \u001b[39m|\u001b[39m \u001b[39mNone\u001b[39;00m \u001b[39m=\u001b[39m substituted_validation_dict\u001b[39m.\u001b[39mget(\n\u001b[1;32m    491\u001b[0m     \u001b[39m\"\u001b[39m\u001b[39maction_list\u001b[39m\u001b[39m\"\u001b[39m\n\u001b[1;32m    492\u001b[0m )\n\u001b[1;32m    493\u001b[0m runtime_configuration_validation \u001b[39m=\u001b[39m substituted_validation_dict\u001b[39m.\u001b[39mget(\n\u001b[1;32m    494\u001b[0m     \u001b[39m\"\u001b[39m\u001b[39mruntime_configuration\u001b[39m\u001b[39m\"\u001b[39m, {}\n\u001b[1;32m    495\u001b[0m )\n",
      "File \u001b[0;32m~/code/work/great_expectations/great_expectations/data_context/data_context/abstract_data_context.py:2676\u001b[0m, in \u001b[0;36mAbstractDataContext.get_validator\u001b[0;34m(***failed resolving arguments***)\u001b[0m\n\u001b[1;32m   2671\u001b[0m     expectation_suite \u001b[39m=\u001b[39m \u001b[39mself\u001b[39m\u001b[39m.\u001b[39mget_expectation_suite(\n\u001b[1;32m   2672\u001b[0m         include_rendered_content\u001b[39m=\u001b[39minclude_rendered_content,\n\u001b[1;32m   2673\u001b[0m         ge_cloud_id\u001b[39m=\u001b[39mexpectation_suite_id,\n\u001b[1;32m   2674\u001b[0m     )\n\u001b[1;32m   2675\u001b[0m \u001b[39mif\u001b[39;00m expectation_suite_name \u001b[39mis\u001b[39;00m \u001b[39mnot\u001b[39;00m \u001b[39mNone\u001b[39;00m:\n\u001b[0;32m-> 2676\u001b[0m     expectation_suite \u001b[39m=\u001b[39m \u001b[39mself\u001b[39;49m\u001b[39m.\u001b[39;49mget_expectation_suite(\n\u001b[1;32m   2677\u001b[0m         expectation_suite_name,\n\u001b[1;32m   2678\u001b[0m         include_rendered_content\u001b[39m=\u001b[39;49minclude_rendered_content,\n\u001b[1;32m   2679\u001b[0m     )\n\u001b[1;32m   2680\u001b[0m \u001b[39mif\u001b[39;00m create_expectation_suite_with_name \u001b[39mis\u001b[39;00m \u001b[39mnot\u001b[39;00m \u001b[39mNone\u001b[39;00m:\n\u001b[1;32m   2681\u001b[0m     expectation_suite \u001b[39m=\u001b[39m \u001b[39mself\u001b[39m\u001b[39m.\u001b[39madd_expectation_suite(\n\u001b[1;32m   2682\u001b[0m         expectation_suite_name\u001b[39m=\u001b[39mcreate_expectation_suite_with_name,\n\u001b[1;32m   2683\u001b[0m     )\n",
      "File \u001b[0;32m~/code/work/great_expectations/great_expectations/data_context/data_context/abstract_data_context.py:3419\u001b[0m, in \u001b[0;36mAbstractDataContext.get_expectation_suite\u001b[0;34m(self, expectation_suite_name, include_rendered_content, ge_cloud_id)\u001b[0m\n\u001b[1;32m   3416\u001b[0m     \u001b[39mreturn\u001b[39;00m expectation_suite\n\u001b[1;32m   3418\u001b[0m \u001b[39melse\u001b[39;00m:\n\u001b[0;32m-> 3419\u001b[0m     \u001b[39mraise\u001b[39;00m gx_exceptions\u001b[39m.\u001b[39mDataContextError(\n\u001b[1;32m   3420\u001b[0m         \u001b[39mf\u001b[39m\u001b[39m\"\u001b[39m\u001b[39mexpectation_suite \u001b[39m\u001b[39m{\u001b[39;00mexpectation_suite_name\u001b[39m}\u001b[39;00m\u001b[39m not found\u001b[39m\u001b[39m\"\u001b[39m\n\u001b[1;32m   3421\u001b[0m     )\n",
      "\u001b[0;31mDataContextError\u001b[0m: expectation_suite default not found"
=======
   "execution_count": 85,
   "metadata": {},
   "outputs": [
    {
     "ename": "AttributeError",
     "evalue": "'Validator'  object has no attribute 'get_batch_request'",
     "output_type": "error",
     "traceback": [
      "\u001b[0;31m---------------------------------------------------------------------------\u001b[0m",
      "\u001b[0;31mAttributeError\u001b[0m                            Traceback (most recent call last)",
      "Cell \u001b[0;32mIn[85], line 9\u001b[0m\n\u001b[1;32m      2\u001b[0m validator\u001b[39m.\u001b[39msave_expectation_suite(discard_failed_expectations\u001b[39m=\u001b[39m\u001b[39mFalse\u001b[39;00m)\n\u001b[1;32m      4\u001b[0m \u001b[39m# Use a Checkpoint to verify that your new Expectation Suite works.\u001b[39;00m\n\u001b[1;32m      5\u001b[0m checkpoint \u001b[39m=\u001b[39m context\u001b[39m.\u001b[39madd_or_update_checkpoint(\n\u001b[1;32m      6\u001b[0m     name\u001b[39m=\u001b[39m\u001b[39m\"\u001b[39m\u001b[39myellow_tripdata_sample_all_years_checkpoint\u001b[39m\u001b[39m\"\u001b[39m,\n\u001b[1;32m      7\u001b[0m     validator\u001b[39m=\u001b[39mvalidator,\n\u001b[1;32m      8\u001b[0m     expectation_suite_name\u001b[39m=\u001b[39m\u001b[39m\"\u001b[39m\u001b[39mmy_custom_expectation_suite_name\u001b[39m\u001b[39m\"\u001b[39m,\n\u001b[0;32m----> 9\u001b[0m     batch_request\u001b[39m=\u001b[39mvalidator\u001b[39m.\u001b[39;49mget_batch_request(),\n\u001b[1;32m     10\u001b[0m )\n\u001b[1;32m     11\u001b[0m checkpoint_result \u001b[39m=\u001b[39m checkpoint\u001b[39m.\u001b[39mrun()\n\u001b[1;32m     13\u001b[0m \u001b[39massert\u001b[39;00m checkpoint_result[\u001b[39m\"\u001b[39m\u001b[39msuccess\u001b[39m\u001b[39m\"\u001b[39m] \u001b[39mis\u001b[39;00m \u001b[39mTrue\u001b[39;00m\n",
      "File \u001b[0;32m~/code/work/great_expectations/great_expectations/validator/validator.py:471\u001b[0m, in \u001b[0;36mValidator.__getattr__\u001b[0;34m(self, name)\u001b[0m\n\u001b[1;32m    469\u001b[0m     \u001b[39mreturn\u001b[39;00m \u001b[39mgetattr\u001b[39m(\u001b[39mself\u001b[39m\u001b[39m.\u001b[39mactive_batch\u001b[39m.\u001b[39mdata\u001b[39m.\u001b[39mdataframe, name)\n\u001b[1;32m    470\u001b[0m \u001b[39melse\u001b[39;00m:\n\u001b[0;32m--> 471\u001b[0m     \u001b[39mraise\u001b[39;00m \u001b[39mAttributeError\u001b[39;00m(\n\u001b[1;32m    472\u001b[0m         \u001b[39mf\u001b[39m\u001b[39m\"\u001b[39m\u001b[39m'\u001b[39m\u001b[39m{\u001b[39;00m\u001b[39mtype\u001b[39m(\u001b[39mself\u001b[39m)\u001b[39m.\u001b[39m\u001b[39m__name__\u001b[39m\u001b[39m}\u001b[39;00m\u001b[39m'\u001b[39m\u001b[39m  object has no attribute \u001b[39m\u001b[39m'\u001b[39m\u001b[39m{\u001b[39;00mname\u001b[39m}\u001b[39;00m\u001b[39m'\u001b[39m\u001b[39m\"\u001b[39m\n\u001b[1;32m    473\u001b[0m     )\n",
      "\u001b[0;31mAttributeError\u001b[0m: 'Validator'  object has no attribute 'get_batch_request'"
>>>>>>> Stashed changes
     ]
    }
   ],
   "source": [
    "\n",
    "# Save the expectation suite from Data Context to validator to be able to use it in a Checkpoint\n",
    "validator.save_expectation_suite(discard_failed_expectations=False)\n",
    "\n",
<<<<<<< Updated upstream
=======
    "\n",
>>>>>>> Stashed changes
    "# Use a Checkpoint to verify that your new Expectation Suite works.\n",
    "checkpoint = context.add_or_update_checkpoint(\n",
    "    name=\"yellow_tripdata_sample_all_years_checkpoint\",\n",
    "    validator=validator,\n",
    "    expectation_suite_name=\"my_custom_expectation_suite_name\",\n",
<<<<<<< Updated upstream
=======
    "    batch_request=validator.get_batch_request(),\n",
>>>>>>> Stashed changes
    ")\n",
    "checkpoint_result = checkpoint.run()\n",
    "\n",
    "assert checkpoint_result[\"success\"] is True"
   ]
  },
  {
   "cell_type": "code",
   "execution_count": null,
   "metadata": {},
   "outputs": [
    {
     "name": "stdout",
     "output_type": "stream",
     "text": [
      "64 Metrics calculated, 16 Metric plots implemented\n",
      "Use DataAssistantResult.metrics_by_domain to show all calculated Metrics\n"
     ]
    },
    {
     "data": {
      "text/html": [
       "\n",
       "                <style>\n",
       "                @import url('https://fonts.googleapis.com/css2?family=Montserrat:wght@500;600&display=swap');\n",
       "                </style>\n",
       "                "
      ],
      "text/plain": [
       "<IPython.core.display.HTML object>"
      ]
     },
     "metadata": {},
     "output_type": "display_data"
    },
    {
     "data": {
      "text/html": [
       "\n",
       "                <style>\n",
       "                span.vega-bind-name {\n",
       "                    color: #404041;\n",
       "                    font-family: Montserrat;\n",
       "                    font-size: 14px;\n",
       "                    font-weight: 500;\n",
       "                }\n",
       "                form.vega-bindings {\n",
       "                    color: #404041;\n",
       "                    font-family: Montserrat;\n",
       "                    font-size: 14px;\n",
       "                    font-weight: 500;\n",
       "                    position: absolute;\n",
       "                    left: 75px;\n",
       "                    top: 28px;\n",
       "                }\n",
       "                </style>\n",
       "            "
      ],
      "text/plain": [
       "<IPython.core.display.HTML object>"
      ]
     },
     "metadata": {},
     "output_type": "display_data"
    },
    {
     "data": {
      "text/html": [
       "\n",
       "                <style>\n",
       "                .widget-inline-hbox .widget-label {\n",
       "                    color: #404041;\n",
       "                    font-family: Montserrat;\n",
       "                    font-size: 14px;\n",
       "                    font-weight: 500;\n",
       "                }\n",
       "                .widget-dropdown > select {\n",
       "                    padding-right: 21px;\n",
       "                    padding-left: 3px;\n",
       "                    color: #404041;\n",
       "                    font-family: Montserrat;\n",
       "                    font-size: 14px;\n",
       "                    font-weight: 500;\n",
       "                    height: 20px;\n",
       "                    line-height: 14px;\n",
       "                    background-size: 20px;\n",
       "                    border-radius: 2px;\n",
       "                }\n",
       "                </style>\n",
       "            "
      ],
      "text/plain": [
       "<IPython.core.display.HTML object>"
      ]
     },
     "metadata": {},
     "output_type": "display_data"
    },
    {
     "data": {
      "application/vnd.jupyter.widget-view+json": {
       "model_id": "c2ae325c129e48658eaf9341d635dc52",
       "version_major": 2,
       "version_minor": 0
      },
      "text/plain": [
       "interactive(children=(Dropdown(description='Select Plot Type: ', layout=Layout(margin='0px', width='max-conten…"
      ]
     },
     "metadata": {},
     "output_type": "display_data"
    },
    {
     "data": {
      "text/plain": []
     },
     "execution_count": 67,
     "metadata": {},
     "output_type": "execute_result"
    }
   ],
   "source": [
    "# To view the metrics that were computed, you can use the `plot_metrics` method:\n",
    "\n",
    "data_assistant_result.plot_metrics()"
   ]
  },
  {
   "cell_type": "code",
<<<<<<< Updated upstream
   "execution_count": null,
=======
   "execution_count": 78,
>>>>>>> Stashed changes
   "metadata": {},
   "outputs": [
    {
     "data": {
      "text/plain": [
<<<<<<< Updated upstream
       "{'local_site': 'file:///var/folders/9w/qsyh30616nq8frx877b3pyzm0000gn/T/tmpjax8sik7/index.html'}"
      ]
     },
     "execution_count": 68,
=======
       "{'local_site': 'file:///var/folders/9w/qsyh30616nq8frx877b3pyzm0000gn/T/tmp8rvqbg8k/index.html'}"
      ]
     },
     "execution_count": 78,
>>>>>>> Stashed changes
     "metadata": {},
     "output_type": "execute_result"
    }
   ],
   "source": [
    "context.build_data_docs()\n"
   ]
  },
  {
   "cell_type": "code",
   "execution_count": null,
   "metadata": {},
   "outputs": [
    {
     "data": {
      "text/plain": [
       "[ValidationResultIdentifier::default/__none__/20230809T184036.045054Z/taxi_multi_batch_datasource-all_years-year_2018-month_01,\n",
       " ValidationResultIdentifier::default/__none__/20230809T184036.045054Z/taxi_multi_batch_datasource-all_years-year_2018-month_02,\n",
       " ValidationResultIdentifier::default/__none__/20230809T184036.045054Z/taxi_multi_batch_datasource-all_years-year_2018-month_03,\n",
       " ValidationResultIdentifier::default/__none__/20230809T184036.045054Z/taxi_multi_batch_datasource-all_years-year_2018-month_04,\n",
       " ValidationResultIdentifier::default/__none__/20230809T184036.045054Z/taxi_multi_batch_datasource-all_years-year_2018-month_05,\n",
       " ValidationResultIdentifier::default/__none__/20230809T184036.045054Z/taxi_multi_batch_datasource-all_years-year_2018-month_06,\n",
       " ValidationResultIdentifier::default/__none__/20230809T184036.045054Z/taxi_multi_batch_datasource-all_years-year_2018-month_07,\n",
       " ValidationResultIdentifier::default/__none__/20230809T184036.045054Z/taxi_multi_batch_datasource-all_years-year_2018-month_08,\n",
       " ValidationResultIdentifier::default/__none__/20230809T184036.045054Z/taxi_multi_batch_datasource-all_years-year_2018-month_09,\n",
       " ValidationResultIdentifier::default/__none__/20230809T184036.045054Z/taxi_multi_batch_datasource-all_years-year_2018-month_10,\n",
       " ValidationResultIdentifier::default/__none__/20230809T184036.045054Z/taxi_multi_batch_datasource-all_years-year_2018-month_11,\n",
       " ValidationResultIdentifier::default/__none__/20230809T184036.045054Z/taxi_multi_batch_datasource-all_years-year_2018-month_12,\n",
       " ValidationResultIdentifier::default/__none__/20230809T184036.045054Z/taxi_multi_batch_datasource-all_years-year_2019-month_01,\n",
       " ValidationResultIdentifier::default/__none__/20230809T184036.045054Z/taxi_multi_batch_datasource-all_years-year_2019-month_02,\n",
       " ValidationResultIdentifier::default/__none__/20230809T184036.045054Z/taxi_multi_batch_datasource-all_years-year_2019-month_03,\n",
       " ValidationResultIdentifier::default/__none__/20230809T184036.045054Z/taxi_multi_batch_datasource-all_years-year_2019-month_04,\n",
       " ValidationResultIdentifier::default/__none__/20230809T184036.045054Z/taxi_multi_batch_datasource-all_years-year_2019-month_05,\n",
       " ValidationResultIdentifier::default/__none__/20230809T184036.045054Z/taxi_multi_batch_datasource-all_years-year_2019-month_06,\n",
       " ValidationResultIdentifier::default/__none__/20230809T184036.045054Z/taxi_multi_batch_datasource-all_years-year_2019-month_07,\n",
       " ValidationResultIdentifier::default/__none__/20230809T184036.045054Z/taxi_multi_batch_datasource-all_years-year_2019-month_08,\n",
       " ValidationResultIdentifier::default/__none__/20230809T184036.045054Z/taxi_multi_batch_datasource-all_years-year_2019-month_09,\n",
       " ValidationResultIdentifier::default/__none__/20230809T184036.045054Z/taxi_multi_batch_datasource-all_years-year_2019-month_10,\n",
       " ValidationResultIdentifier::default/__none__/20230809T184036.045054Z/taxi_multi_batch_datasource-all_years-year_2019-month_11,\n",
       " ValidationResultIdentifier::default/__none__/20230809T184036.045054Z/taxi_multi_batch_datasource-all_years-year_2019-month_12,\n",
       " ValidationResultIdentifier::default/__none__/20230809T184036.045054Z/taxi_multi_batch_datasource-all_years-year_2020-month_01,\n",
       " ValidationResultIdentifier::default/__none__/20230809T184036.045054Z/taxi_multi_batch_datasource-all_years-year_2020-month_02,\n",
       " ValidationResultIdentifier::default/__none__/20230809T184036.045054Z/taxi_multi_batch_datasource-all_years-year_2020-month_03,\n",
       " ValidationResultIdentifier::default/__none__/20230809T184036.045054Z/taxi_multi_batch_datasource-all_years-year_2020-month_04,\n",
       " ValidationResultIdentifier::default/__none__/20230809T184036.045054Z/taxi_multi_batch_datasource-all_years-year_2020-month_05,\n",
       " ValidationResultIdentifier::default/__none__/20230809T184036.045054Z/taxi_multi_batch_datasource-all_years-year_2020-month_06,\n",
       " ValidationResultIdentifier::default/__none__/20230809T184036.045054Z/taxi_multi_batch_datasource-all_years-year_2020-month_07,\n",
       " ValidationResultIdentifier::default/__none__/20230809T184036.045054Z/taxi_multi_batch_datasource-all_years-year_2020-month_08,\n",
       " ValidationResultIdentifier::default/__none__/20230809T184036.045054Z/taxi_multi_batch_datasource-all_years-year_2020-month_09,\n",
       " ValidationResultIdentifier::default/__none__/20230809T184036.045054Z/taxi_multi_batch_datasource-all_years-year_2020-month_10,\n",
       " ValidationResultIdentifier::default/__none__/20230809T184036.045054Z/taxi_multi_batch_datasource-all_years-year_2020-month_11,\n",
       " ValidationResultIdentifier::default/__none__/20230809T184036.045054Z/taxi_multi_batch_datasource-all_years-year_2020-month_12]"
      ]
     },
     "execution_count": 70,
     "metadata": {},
     "output_type": "execute_result"
    }
   ],
   "source": [
    "\n",
    "\n",
    "validation_result_identifier = checkpoint_result.list_validation_result_identifiers()\n",
    "\n",
    "validation_result_identifier"
   ]
  },
  {
   "cell_type": "code",
<<<<<<< Updated upstream
   "execution_count": null,
=======
   "execution_count": 79,
>>>>>>> Stashed changes
   "metadata": {},
   "outputs": [],
   "source": [
    "context.open_data_docs()\n",
    "\n",
    "# context.open_data_docs(resource_identifier=validation_result_identifier)\n",
    "\n"
   ]
  }
 ],
 "metadata": {
  "kernelspec": {
   "display_name": "gx_dev",
   "language": "python",
   "name": "python3"
  },
  "language_info": {
   "codemirror_mode": {
    "name": "ipython",
    "version": 3
   },
   "file_extension": ".py",
   "mimetype": "text/x-python",
   "name": "python",
   "nbconvert_exporter": "python",
   "pygments_lexer": "ipython3",
   "version": "3.9.6"
  },
  "orig_nbformat": 4
 },
 "nbformat": 4,
 "nbformat_minor": 2
}

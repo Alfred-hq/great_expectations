{
 "cells": [
  {
   "cell_type": "code",
   "execution_count": 1,
   "id": "a4e14978",
   "metadata": {
    "ExecuteTime": {
     "end_time": "2023-06-29T20:13:18.299298Z",
     "start_time": "2023-06-29T20:13:13.650224Z"
    }
   },
   "outputs": [],
   "source": [
    "import great_expectations as gx\n",
    "\n",
    "context = gx.get_context()"
   ]
  },
  {
   "cell_type": "code",
   "execution_count": 2,
   "id": "bb7e779c",
   "metadata": {
    "ExecuteTime": {
     "end_time": "2023-06-29T20:13:18.328634Z",
     "start_time": "2023-06-29T20:13:18.298419Z"
    }
   },
   "outputs": [],
   "source": [
    "import os\n",
    "\n",
    "my_connection_string = os.getenv(\"AWS_RDS_CONNECTION_STRING\")"
   ]
  },
  {
   "cell_type": "code",
   "execution_count": 3,
   "id": "29b4ba0b",
   "metadata": {
    "ExecuteTime": {
     "end_time": "2023-06-29T20:13:19.775611Z",
     "start_time": "2023-06-29T20:13:18.302392Z"
    }
   },
   "outputs": [],
   "source": [
    "datasource_name = \"my_datasource\"\n",
    "datasource = context.sources.add_sql(\n",
    "    name=datasource_name, connection_string=my_connection_string,)"
   ]
  },
  {
   "cell_type": "code",
   "execution_count": 4,
   "outputs": [],
   "source": [
    "asset_name=\"my_asset\"\n",
    "asset_table_name=\"taxi201901\""
   ],
   "metadata": {
    "collapsed": false,
    "ExecuteTime": {
     "end_time": "2023-06-29T20:13:19.778665Z",
     "start_time": "2023-06-29T20:13:19.776157Z"
    }
   }
  },
  {
   "cell_type": "code",
   "execution_count": 5,
   "outputs": [],
   "source": [
    "table_asset = datasource.add_table_asset(name=asset_name, table_name=asset_table_name)\n"
   ],
   "metadata": {
    "collapsed": false,
    "ExecuteTime": {
     "end_time": "2023-06-29T20:13:20.023454Z",
     "start_time": "2023-06-29T20:13:19.779883Z"
    }
   }
  },
  {
   "cell_type": "code",
   "execution_count": 6,
   "outputs": [],
   "source": [
    "batch_request = table_asset.build_batch_request()"
   ],
   "metadata": {
    "collapsed": false,
    "ExecuteTime": {
     "end_time": "2023-06-29T20:13:20.026576Z",
     "start_time": "2023-06-29T20:13:20.024014Z"
    }
   }
  },
  {
   "cell_type": "code",
   "execution_count": 7,
   "outputs": [
    {
     "data": {
      "text/plain": "{\n  \"expectations\": [],\n  \"ge_cloud_id\": null,\n  \"data_asset_type\": null,\n  \"expectation_suite_name\": \"my_expectation_suite\",\n  \"meta\": {\n    \"great_expectations_version\": \"0.17.2+1.ge4b4f0811.dirty\"\n  }\n}"
     },
     "execution_count": 7,
     "metadata": {},
     "output_type": "execute_result"
    }
   ],
   "source": [
    "expectation_suite_name = \"my_expectation_suite\"\n",
    "context.add_or_update_expectation_suite(expectation_suite_name=expectation_suite_name)"
   ],
   "metadata": {
    "collapsed": false,
    "ExecuteTime": {
     "end_time": "2023-06-29T20:13:20.045938Z",
     "start_time": "2023-06-29T20:13:20.028162Z"
    }
   }
  },
  {
   "cell_type": "code",
   "execution_count": 8,
   "outputs": [
    {
     "data": {
      "text/plain": "Calculating Metrics:   0%|          | 0/1 [00:00<?, ?it/s]",
      "application/vnd.jupyter.widget-view+json": {
       "version_major": 2,
       "version_minor": 0,
       "model_id": "e18310e255394cc0bf180842f27bf3b7"
      }
     },
     "metadata": {},
     "output_type": "display_data"
    },
    {
     "data": {
      "text/plain": "   index  vendor_id      pickup_datetime     dropoff_datetime  \\\n0      0          1  2019-01-15 03:36:12  2019-01-15 03:42:19   \n1      1          1  2019-01-25 18:20:32  2019-01-25 18:26:55   \n2      2          1  2019-01-05 06:47:31  2019-01-05 06:52:19   \n3      3          1  2019-01-09 15:08:02  2019-01-09 15:20:17   \n4      4          1  2019-01-25 18:49:51  2019-01-25 18:56:44   \n\n   passenger_count  trip_distance  rate_code_id store_and_fwd_flag  \\\n0                1            1.0             1                  N   \n1                1            0.8             1                  N   \n2                1            1.1             1                  N   \n3                1            2.5             1                  N   \n4                1            0.8             1                  N   \n\n   pickup_location_id  dropoff_location_id  payment_type  fare_amount  extra  \\\n0                 230                   48             1          6.5    0.5   \n1                 112                  112             1          6.0    1.0   \n2                 107                    4             2          6.0    0.0   \n3                 143                  158             1         11.0    0.0   \n4                 246                   90             1          6.5    1.0   \n\n   mta_tax  tip_amount  tolls_amount  improvement_surcharge  total_amount  \\\n0      0.5        1.95           0.0                    0.3          9.75   \n1      0.5        1.55           0.0                    0.3          9.35   \n2      0.5        0.00           0.0                    0.3          6.80   \n3      0.5        3.00           0.0                    0.3         14.80   \n4      0.5        1.65           0.0                    0.3          9.95   \n\n   congestion_surcharge  \n0                   NaN  \n1                   0.0  \n2                   NaN  \n3                   NaN  \n4                   0.0  ",
      "text/html": "<div>\n<style scoped>\n    .dataframe tbody tr th:only-of-type {\n        vertical-align: middle;\n    }\n\n    .dataframe tbody tr th {\n        vertical-align: top;\n    }\n\n    .dataframe thead th {\n        text-align: right;\n    }\n</style>\n<table border=\"1\" class=\"dataframe\">\n  <thead>\n    <tr style=\"text-align: right;\">\n      <th></th>\n      <th>index</th>\n      <th>vendor_id</th>\n      <th>pickup_datetime</th>\n      <th>dropoff_datetime</th>\n      <th>passenger_count</th>\n      <th>trip_distance</th>\n      <th>rate_code_id</th>\n      <th>store_and_fwd_flag</th>\n      <th>pickup_location_id</th>\n      <th>dropoff_location_id</th>\n      <th>payment_type</th>\n      <th>fare_amount</th>\n      <th>extra</th>\n      <th>mta_tax</th>\n      <th>tip_amount</th>\n      <th>tolls_amount</th>\n      <th>improvement_surcharge</th>\n      <th>total_amount</th>\n      <th>congestion_surcharge</th>\n    </tr>\n  </thead>\n  <tbody>\n    <tr>\n      <th>0</th>\n      <td>0</td>\n      <td>1</td>\n      <td>2019-01-15 03:36:12</td>\n      <td>2019-01-15 03:42:19</td>\n      <td>1</td>\n      <td>1.0</td>\n      <td>1</td>\n      <td>N</td>\n      <td>230</td>\n      <td>48</td>\n      <td>1</td>\n      <td>6.5</td>\n      <td>0.5</td>\n      <td>0.5</td>\n      <td>1.95</td>\n      <td>0.0</td>\n      <td>0.3</td>\n      <td>9.75</td>\n      <td>NaN</td>\n    </tr>\n    <tr>\n      <th>1</th>\n      <td>1</td>\n      <td>1</td>\n      <td>2019-01-25 18:20:32</td>\n      <td>2019-01-25 18:26:55</td>\n      <td>1</td>\n      <td>0.8</td>\n      <td>1</td>\n      <td>N</td>\n      <td>112</td>\n      <td>112</td>\n      <td>1</td>\n      <td>6.0</td>\n      <td>1.0</td>\n      <td>0.5</td>\n      <td>1.55</td>\n      <td>0.0</td>\n      <td>0.3</td>\n      <td>9.35</td>\n      <td>0.0</td>\n    </tr>\n    <tr>\n      <th>2</th>\n      <td>2</td>\n      <td>1</td>\n      <td>2019-01-05 06:47:31</td>\n      <td>2019-01-05 06:52:19</td>\n      <td>1</td>\n      <td>1.1</td>\n      <td>1</td>\n      <td>N</td>\n      <td>107</td>\n      <td>4</td>\n      <td>2</td>\n      <td>6.0</td>\n      <td>0.0</td>\n      <td>0.5</td>\n      <td>0.00</td>\n      <td>0.0</td>\n      <td>0.3</td>\n      <td>6.80</td>\n      <td>NaN</td>\n    </tr>\n    <tr>\n      <th>3</th>\n      <td>3</td>\n      <td>1</td>\n      <td>2019-01-09 15:08:02</td>\n      <td>2019-01-09 15:20:17</td>\n      <td>1</td>\n      <td>2.5</td>\n      <td>1</td>\n      <td>N</td>\n      <td>143</td>\n      <td>158</td>\n      <td>1</td>\n      <td>11.0</td>\n      <td>0.0</td>\n      <td>0.5</td>\n      <td>3.00</td>\n      <td>0.0</td>\n      <td>0.3</td>\n      <td>14.80</td>\n      <td>NaN</td>\n    </tr>\n    <tr>\n      <th>4</th>\n      <td>4</td>\n      <td>1</td>\n      <td>2019-01-25 18:49:51</td>\n      <td>2019-01-25 18:56:44</td>\n      <td>1</td>\n      <td>0.8</td>\n      <td>1</td>\n      <td>N</td>\n      <td>246</td>\n      <td>90</td>\n      <td>1</td>\n      <td>6.5</td>\n      <td>1.0</td>\n      <td>0.5</td>\n      <td>1.65</td>\n      <td>0.0</td>\n      <td>0.3</td>\n      <td>9.95</td>\n      <td>0.0</td>\n    </tr>\n  </tbody>\n</table>\n</div>"
     },
     "execution_count": 8,
     "metadata": {},
     "output_type": "execute_result"
    }
   ],
   "source": [
    "validator = context.get_validator(\n",
    "    batch_request=batch_request,\n",
    "    expectation_suite_name=expectation_suite_name,\n",
    ")\n",
    "validator.head()"
   ],
   "metadata": {
    "collapsed": false,
    "ExecuteTime": {
     "end_time": "2023-06-29T20:13:22.271862Z",
     "start_time": "2023-06-29T20:13:20.045596Z"
    }
   }
  },
  {
   "cell_type": "code",
   "execution_count": 9,
   "outputs": [
    {
     "data": {
      "text/plain": "Calculating Metrics:   0%|          | 0/8 [00:00<?, ?it/s]",
      "application/vnd.jupyter.widget-view+json": {
       "version_major": 2,
       "version_minor": 0,
       "model_id": "a421c976147a46b09d1d24b199e8cdb7"
      }
     },
     "metadata": {},
     "output_type": "display_data"
    },
    {
     "name": "stdout",
     "output_type": "stream",
     "text": [
      "\n"
     ]
    },
    {
     "data": {
      "text/plain": "Generating Expectations:   0%|          | 0/1 [00:00<?, ?it/s]",
      "application/vnd.jupyter.widget-view+json": {
       "version_major": 2,
       "version_minor": 0,
       "model_id": "95dc0350d473463baa95fa1fa34c6aca"
      }
     },
     "metadata": {},
     "output_type": "display_data"
    },
    {
     "data": {
      "text/plain": "Calculating Metrics:   0%|          | 0/2 [00:00<?, ?it/s]",
      "application/vnd.jupyter.widget-view+json": {
       "version_major": 2,
       "version_minor": 0,
       "model_id": "fa8bfb0303454122bcffdbbba04a50b2"
      }
     },
     "metadata": {},
     "output_type": "display_data"
    },
    {
     "data": {
      "text/plain": "Calculating Metrics:   0%|          | 0/1 [00:00<?, ?it/s]",
      "application/vnd.jupyter.widget-view+json": {
       "version_major": 2,
       "version_minor": 0,
       "model_id": "2fb3a390436e45baa4b179884eb03b4c"
      }
     },
     "metadata": {},
     "output_type": "display_data"
    },
    {
     "data": {
      "text/plain": "Profiling Dataset:         0%|          | 0/1 [00:00<?, ?it/s]",
      "application/vnd.jupyter.widget-view+json": {
       "version_major": 2,
       "version_minor": 0,
       "model_id": "5c36ee498bd1484f82c902d2de9bd240"
      }
     },
     "metadata": {},
     "output_type": "display_data"
    },
    {
     "data": {
      "text/plain": "Calculating Metrics:   0%|          | 0/6 [00:00<?, ?it/s]",
      "application/vnd.jupyter.widget-view+json": {
       "version_major": 2,
       "version_minor": 0,
       "model_id": "662622122b8a4294b685a6b5f51cf513"
      }
     },
     "metadata": {},
     "output_type": "display_data"
    },
    {
     "data": {
      "text/plain": "Calculating Metrics:   0%|          | 0/6 [00:00<?, ?it/s]",
      "application/vnd.jupyter.widget-view+json": {
       "version_major": 2,
       "version_minor": 0,
       "model_id": "1b2238d74eb34309bee81676cd5814f6"
      }
     },
     "metadata": {},
     "output_type": "display_data"
    },
    {
     "data": {
      "text/plain": "Calculating Metrics:   0%|          | 0/11 [00:00<?, ?it/s]",
      "application/vnd.jupyter.widget-view+json": {
       "version_major": 2,
       "version_minor": 0,
       "model_id": "6c01c49b5c86496fb54dacbdaed13ab3"
      }
     },
     "metadata": {},
     "output_type": "display_data"
    },
    {
     "data": {
      "text/plain": "{\n  \"result\": {\n    \"element_count\": 10000,\n    \"unexpected_count\": 0,\n    \"unexpected_percent\": 0.0,\n    \"partial_unexpected_list\": [],\n    \"missing_count\": 0,\n    \"missing_percent\": 0.0,\n    \"unexpected_percent_total\": 0.0,\n    \"unexpected_percent_nonmissing\": 0.0\n  },\n  \"expectation_config\": {\n    \"expectation_type\": \"expect_column_values_to_be_between\",\n    \"kwargs\": {\n      \"column\": \"passenger_count\",\n      \"min_value\": 1,\n      \"max_value\": 6,\n      \"mostly\": 1.0,\n      \"strict_min\": false,\n      \"strict_max\": false\n    },\n    \"meta\": {\n      \"auto_generated_at\": \"20230629T201327.541861Z\",\n      \"great_expectations_version\": \"0.17.2+1.ge4b4f0811.dirty\"\n    }\n  },\n  \"exception_info\": {\n    \"raised_exception\": false,\n    \"exception_traceback\": null,\n    \"exception_message\": null\n  },\n  \"meta\": {},\n  \"success\": true\n}"
     },
     "execution_count": 9,
     "metadata": {},
     "output_type": "execute_result"
    }
   ],
   "source": [
    "validator.expect_column_values_to_not_be_null(\"pickup_datetime\")\n",
    "validator.expect_column_values_to_be_between(\"passenger_count\", auto=True)"
   ],
   "metadata": {
    "collapsed": false,
    "ExecuteTime": {
     "end_time": "2023-06-29T20:13:27.551935Z",
     "start_time": "2023-06-29T20:13:22.284436Z"
    }
   }
  },
  {
   "cell_type": "code",
   "execution_count": 10,
   "outputs": [],
   "source": [
    "validator.save_expectation_suite(discard_failed_expectations=False)\n"
   ],
   "metadata": {
    "collapsed": false,
    "ExecuteTime": {
     "end_time": "2023-06-29T20:13:27.562718Z",
     "start_time": "2023-06-29T20:13:27.559011Z"
    }
   }
  },
  {
   "cell_type": "code",
   "execution_count": 11,
   "outputs": [],
   "source": [
    "checkpoint = gx.checkpoint.SimpleCheckpoint(\n",
    "    name=\"my_quickstart_checkpoint\",\n",
    "    data_context=context,\n",
    "    validator=validator,\n",
    ")"
   ],
   "metadata": {
    "collapsed": false,
    "ExecuteTime": {
     "end_time": "2023-06-29T20:13:27.567333Z",
     "start_time": "2023-06-29T20:13:27.564627Z"
    }
   }
  },
  {
   "cell_type": "code",
   "execution_count": 12,
   "outputs": [
    {
     "data": {
      "text/plain": "Calculating Metrics:   0%|          | 0/19 [00:00<?, ?it/s]",
      "application/vnd.jupyter.widget-view+json": {
       "version_major": 2,
       "version_minor": 0,
       "model_id": "2209cb465da544d4acf212ef45d8e75c"
      }
     },
     "metadata": {},
     "output_type": "display_data"
    }
   ],
   "source": [
    "checkpoint_result = checkpoint.run()\n"
   ],
   "metadata": {
    "collapsed": false,
    "ExecuteTime": {
     "end_time": "2023-06-29T20:13:29.332896Z",
     "start_time": "2023-06-29T20:13:27.599260Z"
    }
   }
  },
  {
   "cell_type": "code",
   "execution_count": 13,
   "outputs": [
    {
     "data": {
      "text/plain": "True"
     },
     "execution_count": 13,
     "metadata": {},
     "output_type": "execute_result"
    }
   ],
   "source": [
    "checkpoint_result.success"
   ],
   "metadata": {
    "collapsed": false,
    "ExecuteTime": {
     "end_time": "2023-06-29T20:13:29.336395Z",
     "start_time": "2023-06-29T20:13:29.333479Z"
    }
   }
  },
  {
   "cell_type": "code",
   "execution_count": 13,
   "outputs": [],
   "source": [],
   "metadata": {
    "collapsed": false,
    "ExecuteTime": {
     "end_time": "2023-06-29T20:13:29.337885Z",
     "start_time": "2023-06-29T20:13:29.336106Z"
    }
   }
  },
  {
   "cell_type": "code",
   "execution_count": null,
   "outputs": [],
   "source": [],
   "metadata": {
    "collapsed": false
   }
  }
 ],
 "metadata": {
  "kernelspec": {
   "display_name": "Python 3 (ipykernel)",
   "language": "python",
   "name": "python3"
  },
  "language_info": {
   "codemirror_mode": {
    "name": "ipython",
    "version": 3
   },
   "file_extension": ".py",
   "mimetype": "text/x-python",
   "name": "python",
   "nbconvert_exporter": "python",
   "pygments_lexer": "ipython3",
   "version": "3.8.16"
  }
 },
 "nbformat": 4,
 "nbformat_minor": 5
}

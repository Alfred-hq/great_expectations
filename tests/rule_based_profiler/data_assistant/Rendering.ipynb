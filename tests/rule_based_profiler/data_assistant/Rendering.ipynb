{
 "cells": [
  {
   "cell_type": "code",
   "execution_count": 1,
   "id": "f318c75d",
   "metadata": {},
   "outputs": [],
   "source": [
    "import pytest\n",
    "\n",
    "import great_expectations as gx\n",
    "from great_expectations.core.batch import BatchRequest\n",
    "from great_expectations.core.yaml_handler import YAMLHandler\n",
    "from great_expectations.datasource.fluent.interfaces import DataAsset\n",
    "import pathlib\n",
    "import os"
   ]
  },
  {
   "cell_type": "code",
   "execution_count": 2,
   "id": "67179c0c",
   "metadata": {},
   "outputs": [],
   "source": [
    "yaml = YAMLHandler()\n",
    "context = gx.get_context()\n",
    "current_path = pathlib.Path()"
   ]
  },
  {
   "cell_type": "code",
   "execution_count": 3,
   "id": "5ed7f31e",
   "metadata": {},
   "outputs": [
    {
     "name": "stdout",
     "output_type": "stream",
     "text": [
      "\n"
     ]
    },
    {
     "data": {
      "application/vnd.jupyter.widget-view+json": {
       "model_id": "eacb678fcd5f4821b11c8cc427fd1c82",
       "version_major": 2,
       "version_minor": 0
      },
      "text/plain": [
       "Generating Expectations:   0%|          | 0/1 [00:00<?, ?it/s]"
      ]
     },
     "metadata": {},
     "output_type": "display_data"
    },
    {
     "data": {
      "application/vnd.jupyter.widget-view+json": {
       "model_id": "efbf4a7224e741b28a08df1ba6288d8a",
       "version_major": 2,
       "version_minor": 0
      },
      "text/plain": [
       "Calculating Metrics:   0%|          | 0/2 [00:00<?, ?it/s]"
      ]
     },
     "metadata": {},
     "output_type": "display_data"
    },
    {
     "data": {
      "application/vnd.jupyter.widget-view+json": {
       "model_id": "1a096cb7c0204ca083fec8b8fcd1717b",
       "version_major": 2,
       "version_minor": 0
      },
      "text/plain": [
       "Calculating Metrics:   0%|          | 0/1 [00:00<?, ?it/s]"
      ]
     },
     "metadata": {},
     "output_type": "display_data"
    },
    {
     "data": {
      "application/vnd.jupyter.widget-view+json": {
       "model_id": "da6ac2a8346f4ac99f8d5da072945e62",
       "version_major": 2,
       "version_minor": 0
      },
      "text/plain": [
       "Profiling Dataset:         0%|          | 0/8 [00:00<?, ?it/s]"
      ]
     },
     "metadata": {},
     "output_type": "display_data"
    },
    {
     "data": {
      "application/vnd.jupyter.widget-view+json": {
       "model_id": "436d4ad333ff469ab87da64ff878e9e0",
       "version_major": 2,
       "version_minor": 0
      },
      "text/plain": [
       "Calculating Metrics:   0%|          | 0/180 [00:00<?, ?it/s]"
      ]
     },
     "metadata": {},
     "output_type": "display_data"
    },
    {
     "data": {
      "application/vnd.jupyter.widget-view+json": {
       "model_id": "d88eb52d394243b0a33161090f1c15e7",
       "version_major": 2,
       "version_minor": 0
      },
      "text/plain": [
       "Calculating Metrics:   0%|          | 0/36 [00:00<?, ?it/s]"
      ]
     },
     "metadata": {},
     "output_type": "display_data"
    },
    {
     "data": {
      "application/vnd.jupyter.widget-view+json": {
       "model_id": "c78a004be1ed46c2861b0041877f20f9",
       "version_major": 2,
       "version_minor": 0
      },
      "text/plain": [
       "Calculating Metrics:   0%|          | 0/180 [00:00<?, ?it/s]"
      ]
     },
     "metadata": {},
     "output_type": "display_data"
    },
    {
     "data": {
      "application/vnd.jupyter.widget-view+json": {
       "model_id": "8a028533ba9e4b109d79d9159b07c961",
       "version_major": 2,
       "version_minor": 0
      },
      "text/plain": [
       "Calculating Metrics:   0%|          | 0/180 [00:00<?, ?it/s]"
      ]
     },
     "metadata": {},
     "output_type": "display_data"
    },
    {
     "data": {
      "application/vnd.jupyter.widget-view+json": {
       "model_id": "4b0088c6369148e990330354b6bae905",
       "version_major": 2,
       "version_minor": 0
      },
      "text/plain": [
       "Calculating Metrics:   0%|          | 0/36 [00:00<?, ?it/s]"
      ]
     },
     "metadata": {},
     "output_type": "display_data"
    },
    {
     "data": {
      "application/vnd.jupyter.widget-view+json": {
       "model_id": "a9270578826f43158fc0d9a69e4b418e",
       "version_major": 2,
       "version_minor": 0
      },
      "text/plain": [
       "Calculating Metrics:   0%|          | 0/180 [00:00<?, ?it/s]"
      ]
     },
     "metadata": {},
     "output_type": "display_data"
    },
    {
     "data": {
      "application/vnd.jupyter.widget-view+json": {
       "model_id": "b4ddcae7aad04e5ba5d50e570e321c07",
       "version_major": 2,
       "version_minor": 0
      },
      "text/plain": [
       "Calculating Metrics:   0%|          | 0/180 [00:00<?, ?it/s]"
      ]
     },
     "metadata": {},
     "output_type": "display_data"
    },
    {
     "data": {
      "application/vnd.jupyter.widget-view+json": {
       "model_id": "039710f888ba4b01b5bcf74bd5308e3a",
       "version_major": 2,
       "version_minor": 0
      },
      "text/plain": [
       "Calculating Metrics:   0%|          | 0/36 [00:00<?, ?it/s]"
      ]
     },
     "metadata": {},
     "output_type": "display_data"
    },
    {
     "data": {
      "application/vnd.jupyter.widget-view+json": {
       "model_id": "030ba49c8b914e3ca78f340eca7f55a0",
       "version_major": 2,
       "version_minor": 0
      },
      "text/plain": [
       "Calculating Metrics:   0%|          | 0/180 [00:00<?, ?it/s]"
      ]
     },
     "metadata": {},
     "output_type": "display_data"
    },
    {
     "data": {
      "application/vnd.jupyter.widget-view+json": {
       "model_id": "44ac7279b77e4bcda9127b5950620c8f",
       "version_major": 2,
       "version_minor": 0
      },
      "text/plain": [
       "Calculating Metrics:   0%|          | 0/180 [00:00<?, ?it/s]"
      ]
     },
     "metadata": {},
     "output_type": "display_data"
    },
    {
     "data": {
      "application/vnd.jupyter.widget-view+json": {
       "model_id": "7bc4282b2cf54feabc35d32be8e19cf1",
       "version_major": 2,
       "version_minor": 0
      },
      "text/plain": [
       "Calculating Metrics:   0%|          | 0/36 [00:00<?, ?it/s]"
      ]
     },
     "metadata": {},
     "output_type": "display_data"
    },
    {
     "data": {
      "application/vnd.jupyter.widget-view+json": {
       "model_id": "3d02056f79c24c76b21705e2b1246333",
       "version_major": 2,
       "version_minor": 0
      },
      "text/plain": [
       "Calculating Metrics:   0%|          | 0/180 [00:00<?, ?it/s]"
      ]
     },
     "metadata": {},
     "output_type": "display_data"
    },
    {
     "data": {
      "application/vnd.jupyter.widget-view+json": {
       "model_id": "681c67f7d742462cb477b89b87042a76",
       "version_major": 2,
       "version_minor": 0
      },
      "text/plain": [
       "Calculating Metrics:   0%|          | 0/180 [00:00<?, ?it/s]"
      ]
     },
     "metadata": {},
     "output_type": "display_data"
    },
    {
     "data": {
      "application/vnd.jupyter.widget-view+json": {
       "model_id": "7a7652645cec4c9b920685a07055b242",
       "version_major": 2,
       "version_minor": 0
      },
      "text/plain": [
       "Calculating Metrics:   0%|          | 0/36 [00:00<?, ?it/s]"
      ]
     },
     "metadata": {},
     "output_type": "display_data"
    },
    {
     "data": {
      "application/vnd.jupyter.widget-view+json": {
       "model_id": "f2a32a2989c94a5685c866779084ee60",
       "version_major": 2,
       "version_minor": 0
      },
      "text/plain": [
       "Calculating Metrics:   0%|          | 0/180 [00:00<?, ?it/s]"
      ]
     },
     "metadata": {},
     "output_type": "display_data"
    },
    {
     "data": {
      "application/vnd.jupyter.widget-view+json": {
       "model_id": "cd16a3e6528d40bd971c8f668235bd67",
       "version_major": 2,
       "version_minor": 0
      },
      "text/plain": [
       "Calculating Metrics:   0%|          | 0/180 [00:00<?, ?it/s]"
      ]
     },
     "metadata": {},
     "output_type": "display_data"
    },
    {
     "data": {
      "application/vnd.jupyter.widget-view+json": {
       "model_id": "bf9159d1bdab4d7788e8939ae4fd6214",
       "version_major": 2,
       "version_minor": 0
      },
      "text/plain": [
       "Calculating Metrics:   0%|          | 0/36 [00:00<?, ?it/s]"
      ]
     },
     "metadata": {},
     "output_type": "display_data"
    },
    {
     "data": {
      "application/vnd.jupyter.widget-view+json": {
       "model_id": "93719c33346444dbabb0ad6f06938866",
       "version_major": 2,
       "version_minor": 0
      },
      "text/plain": [
       "Calculating Metrics:   0%|          | 0/180 [00:00<?, ?it/s]"
      ]
     },
     "metadata": {},
     "output_type": "display_data"
    },
    {
     "data": {
      "application/vnd.jupyter.widget-view+json": {
       "model_id": "1597ed5d72c6498584604f0f3c02e21d",
       "version_major": 2,
       "version_minor": 0
      },
      "text/plain": [
       "Calculating Metrics:   0%|          | 0/180 [00:00<?, ?it/s]"
      ]
     },
     "metadata": {},
     "output_type": "display_data"
    },
    {
     "data": {
      "application/vnd.jupyter.widget-view+json": {
       "model_id": "c2591852ac8d4b6095adcc1eb447a57e",
       "version_major": 2,
       "version_minor": 0
      },
      "text/plain": [
       "Calculating Metrics:   0%|          | 0/36 [00:00<?, ?it/s]"
      ]
     },
     "metadata": {},
     "output_type": "display_data"
    },
    {
     "data": {
      "application/vnd.jupyter.widget-view+json": {
       "model_id": "c108e8966ba44606921a41127bb3dfd6",
       "version_major": 2,
       "version_minor": 0
      },
      "text/plain": [
       "Calculating Metrics:   0%|          | 0/180 [00:00<?, ?it/s]"
      ]
     },
     "metadata": {},
     "output_type": "display_data"
    },
    {
     "data": {
      "application/vnd.jupyter.widget-view+json": {
       "model_id": "eb61816d3b924f9ea39ed991afd61a00",
       "version_major": 2,
       "version_minor": 0
      },
      "text/plain": [
       "Calculating Metrics:   0%|          | 0/180 [00:00<?, ?it/s]"
      ]
     },
     "metadata": {},
     "output_type": "display_data"
    },
    {
     "data": {
      "application/vnd.jupyter.widget-view+json": {
       "model_id": "de2203060251431d97a227fb3ab1f6f3",
       "version_major": 2,
       "version_minor": 0
      },
      "text/plain": [
       "Calculating Metrics:   0%|          | 0/36 [00:00<?, ?it/s]"
      ]
     },
     "metadata": {},
     "output_type": "display_data"
    },
    {
     "data": {
      "application/vnd.jupyter.widget-view+json": {
       "model_id": "a66d7d5b45e642d6883dd42f4d158948",
       "version_major": 2,
       "version_minor": 0
      },
      "text/plain": [
       "Calculating Metrics:   0%|          | 0/180 [00:00<?, ?it/s]"
      ]
     },
     "metadata": {},
     "output_type": "display_data"
    },
    {
     "data": {
      "application/vnd.jupyter.widget-view+json": {
       "model_id": "0592a9b3decc485d93d559c39c4854ef",
       "version_major": 2,
       "version_minor": 0
      },
      "text/plain": [
       "Calculating Metrics:   0%|          | 0/23 [00:00<?, ?it/s]"
      ]
     },
     "metadata": {},
     "output_type": "display_data"
    },
    {
     "name": "stdout",
     "output_type": "stream",
     "text": [
      "{\n",
      "  \"run_id\": {\n",
      "    \"run_time\": \"2023-09-11T18:57:53.466601-07:00\",\n",
      "    \"run_name\": null\n",
      "  },\n",
      "  \"run_results\": {\n",
      "    \"ValidationResultIdentifier::my_missingness_assistant_suite/__none__/20230912T015753.466601Z/taxi_multi_batch_datasource-all_years-year_2020-month_12\": {\n",
      "      \"validation_result\": {\n",
      "        \"evaluation_parameters\": {},\n",
      "        \"statistics\": {\n",
      "          \"evaluated_expectations\": 4,\n",
      "          \"successful_expectations\": 4,\n",
      "          \"unsuccessful_expectations\": 0,\n",
      "          \"success_percent\": 100.0\n",
      "        },\n",
      "        \"results\": [\n",
      "          {\n",
      "            \"result\": {\n",
      "              \"element_count\": 10,\n",
      "              \"unexpected_count\": 0,\n",
      "              \"unexpected_percent\": 0.0,\n",
      "              \"partial_unexpected_list\": [],\n",
      "              \"partial_unexpected_index_list\": [],\n",
      "              \"partial_unexpected_counts\": []\n",
      "            },\n",
      "            \"expectation_config\": {\n",
      "              \"expectation_type\": \"expect_column_values_to_not_be_null\",\n",
      "              \"kwargs\": {\n",
      "                \"column\": \"trip_distance\",\n",
      "                \"mostly\": 1.0,\n",
      "                \"batch_id\": \"taxi_multi_batch_datasource-all_years-year_2020-month_12\"\n",
      "              },\n",
      "              \"meta\": {\n",
      "                \"profiler_details\": {\n",
      "                  \"metric_configuration\": {\n",
      "                    \"domain_kwargs\": {\n",
      "                      \"column\": \"trip_distance\"\n",
      "                    },\n",
      "                    \"metric_name\": \"column_values.nonnull.unexpected_count\",\n",
      "                    \"metric_value_kwargs\": null\n",
      "                  },\n",
      "                  \"mode\": \"multi_batch\",\n",
      "                  \"num_batches\": 36\n",
      "                }\n",
      "              }\n",
      "            },\n",
      "            \"meta\": {},\n",
      "            \"success\": true,\n",
      "            \"exception_info\": {\n",
      "              \"raised_exception\": false,\n",
      "              \"exception_traceback\": null,\n",
      "              \"exception_message\": null\n",
      "            }\n",
      "          },\n",
      "          {\n",
      "            \"result\": {\n",
      "              \"element_count\": 10,\n",
      "              \"unexpected_count\": 0,\n",
      "              \"unexpected_percent\": 0.0,\n",
      "              \"partial_unexpected_list\": [],\n",
      "              \"partial_unexpected_index_list\": [],\n",
      "              \"partial_unexpected_counts\": []\n",
      "            },\n",
      "            \"expectation_config\": {\n",
      "              \"expectation_type\": \"expect_column_values_to_not_be_null\",\n",
      "              \"kwargs\": {\n",
      "                \"column\": \"pickup_location_id\",\n",
      "                \"mostly\": 1.0,\n",
      "                \"batch_id\": \"taxi_multi_batch_datasource-all_years-year_2020-month_12\"\n",
      "              },\n",
      "              \"meta\": {\n",
      "                \"profiler_details\": {\n",
      "                  \"metric_configuration\": {\n",
      "                    \"domain_kwargs\": {\n",
      "                      \"column\": \"pickup_location_id\"\n",
      "                    },\n",
      "                    \"metric_name\": \"column_values.nonnull.unexpected_count\",\n",
      "                    \"metric_value_kwargs\": null\n",
      "                  },\n",
      "                  \"mode\": \"multi_batch\",\n",
      "                  \"num_batches\": 36\n",
      "                }\n",
      "              }\n",
      "            },\n",
      "            \"meta\": {},\n",
      "            \"success\": true,\n",
      "            \"exception_info\": {\n",
      "              \"raised_exception\": false,\n",
      "              \"exception_traceback\": null,\n",
      "              \"exception_message\": null\n",
      "            }\n",
      "          },\n",
      "          {\n",
      "            \"result\": {\n",
      "              \"element_count\": 10,\n",
      "              \"unexpected_count\": 0,\n",
      "              \"unexpected_percent\": 0.0,\n",
      "              \"partial_unexpected_list\": [],\n",
      "              \"partial_unexpected_index_list\": [],\n",
      "              \"partial_unexpected_counts\": []\n",
      "            },\n",
      "            \"expectation_config\": {\n",
      "              \"expectation_type\": \"expect_column_values_to_not_be_null\",\n",
      "              \"kwargs\": {\n",
      "                \"column\": \"dropoff_location_id\",\n",
      "                \"mostly\": 1.0,\n",
      "                \"batch_id\": \"taxi_multi_batch_datasource-all_years-year_2020-month_12\"\n",
      "              },\n",
      "              \"meta\": {\n",
      "                \"profiler_details\": {\n",
      "                  \"metric_configuration\": {\n",
      "                    \"domain_kwargs\": {\n",
      "                      \"column\": \"dropoff_location_id\"\n",
      "                    },\n",
      "                    \"metric_name\": \"column_values.nonnull.unexpected_count\",\n",
      "                    \"metric_value_kwargs\": null\n",
      "                  },\n",
      "                  \"mode\": \"multi_batch\",\n",
      "                  \"num_batches\": 36\n",
      "                }\n",
      "              }\n",
      "            },\n",
      "            \"meta\": {},\n",
      "            \"success\": true,\n",
      "            \"exception_info\": {\n",
      "              \"raised_exception\": false,\n",
      "              \"exception_traceback\": null,\n",
      "              \"exception_message\": null\n",
      "            }\n",
      "          },\n",
      "          {\n",
      "            \"result\": {\n",
      "              \"element_count\": 10,\n",
      "              \"unexpected_count\": 0,\n",
      "              \"unexpected_percent\": 0.0,\n",
      "              \"partial_unexpected_list\": [],\n",
      "              \"partial_unexpected_index_list\": [],\n",
      "              \"partial_unexpected_counts\": []\n",
      "            },\n",
      "            \"expectation_config\": {\n",
      "              \"expectation_type\": \"expect_column_values_to_not_be_null\",\n",
      "              \"kwargs\": {\n",
      "                \"column\": \"total_amount\",\n",
      "                \"mostly\": 1.0,\n",
      "                \"batch_id\": \"taxi_multi_batch_datasource-all_years-year_2020-month_12\"\n",
      "              },\n",
      "              \"meta\": {\n",
      "                \"profiler_details\": {\n",
      "                  \"metric_configuration\": {\n",
      "                    \"domain_kwargs\": {\n",
      "                      \"column\": \"total_amount\"\n",
      "                    },\n",
      "                    \"metric_name\": \"column_values.nonnull.unexpected_count\",\n",
      "                    \"metric_value_kwargs\": null\n",
      "                  },\n",
      "                  \"mode\": \"multi_batch\",\n",
      "                  \"num_batches\": 36\n",
      "                }\n",
      "              }\n",
      "            },\n",
      "            \"meta\": {},\n",
      "            \"success\": true,\n",
      "            \"exception_info\": {\n",
      "              \"raised_exception\": false,\n",
      "              \"exception_traceback\": null,\n",
      "              \"exception_message\": null\n",
      "            }\n",
      "          }\n",
      "        ],\n",
      "        \"meta\": {\n",
      "          \"great_expectations_version\": \"0.17.15+11.g9ea78ecd3.dirty\",\n",
      "          \"expectation_suite_name\": \"my_missingness_assistant_suite\",\n",
      "          \"run_id\": {\n",
      "            \"run_time\": \"2023-09-11T18:57:53.466601-07:00\",\n",
      "            \"run_name\": null\n",
      "          },\n",
      "          \"batch_spec\": {\n",
      "            \"path\": \"../../test_sets/taxi_yellow_tripdata_samples/first_ten_trips_in_each_file/yellow_tripdata_sample_2020-12.csv\",\n",
      "            \"reader_method\": \"read_csv\",\n",
      "            \"reader_options\": {}\n",
      "          },\n",
      "          \"batch_markers\": {\n",
      "            \"ge_load_time\": \"20230912T015753.542170Z\",\n",
      "            \"pandas_data_fingerprint\": \"b93ae61e1a3005e8f94058c27ba183b0\"\n",
      "          },\n",
      "          \"active_batch_definition\": {\n",
      "            \"datasource_name\": \"taxi_multi_batch_datasource\",\n",
      "            \"data_connector_name\": \"fluent\",\n",
      "            \"data_asset_name\": \"all_years\",\n",
      "            \"batch_identifiers\": {\n",
      "              \"path\": \"yellow_tripdata_sample_2020-12.csv\",\n",
      "              \"year\": \"2020\",\n",
      "              \"month\": \"12\"\n",
      "            }\n",
      "          },\n",
      "          \"validation_time\": \"20230912T015753.633588Z\",\n",
      "          \"checkpoint_name\": \"yellow_tripdata_sample_my_missingness_assistant_suite\",\n",
      "          \"validation_id\": null,\n",
      "          \"checkpoint_id\": null\n",
      "        },\n",
      "        \"success\": true\n",
      "      },\n",
      "      \"actions_results\": {\n",
      "        \"store_validation_result\": {\n",
      "          \"class\": \"StoreValidationResultAction\"\n",
      "        },\n",
      "        \"store_evaluation_params\": {\n",
      "          \"class\": \"StoreEvaluationParametersAction\"\n",
      "        },\n",
      "        \"update_data_docs\": {\n",
      "          \"local_site\": \"file:///var/folders/xc/q2lzqtf11m1ftwmz88783yq40000gn/T/tmpxbel4s9q/validations/my_missingness_assistant_suite/__none__/20230912T015753.466601Z/taxi_multi_batch_datasource-all_years-year_2020-month_12.html\",\n",
      "          \"class\": \"UpdateDataDocsAction\"\n",
      "        }\n",
      "      }\n",
      "    }\n",
      "  },\n",
      "  \"checkpoint_config\": {\n",
      "    \"site_names\": null,\n",
      "    \"runtime_configuration\": {},\n",
      "    \"validations\": [\n",
      "      {\n",
      "        \"expectation_suite_name\": \"my_missingness_assistant_suite\",\n",
      "        \"id\": null,\n",
      "        \"batch_request\": {\n",
      "          \"datasource_name\": \"taxi_multi_batch_datasource\",\n",
      "          \"data_asset_name\": \"all_years\",\n",
      "          \"options\": {},\n",
      "          \"batch_slice\": null\n",
      "        },\n",
      "        \"expectation_suite_ge_cloud_id\": null,\n",
      "        \"name\": null\n",
      "      }\n",
      "    ],\n",
      "    \"action_list\": [\n",
      "      {\n",
      "        \"name\": \"store_validation_result\",\n",
      "        \"action\": {\n",
      "          \"class_name\": \"StoreValidationResultAction\"\n",
      "        }\n",
      "      },\n",
      "      {\n",
      "        \"name\": \"store_evaluation_params\",\n",
      "        \"action\": {\n",
      "          \"class_name\": \"StoreEvaluationParametersAction\"\n",
      "        }\n",
      "      },\n",
      "      {\n",
      "        \"name\": \"update_data_docs\",\n",
      "        \"action\": {\n",
      "          \"class_name\": \"UpdateDataDocsAction\"\n",
      "        }\n",
      "      }\n",
      "    ],\n",
      "    \"name\": \"yellow_tripdata_sample_my_missingness_assistant_suite\",\n",
      "    \"batch_request\": {},\n",
      "    \"notify_with\": null,\n",
      "    \"expectation_suite_name\": null,\n",
      "    \"config_version\": 1.0,\n",
      "    \"class_name\": \"Checkpoint\",\n",
      "    \"template_name\": null,\n",
      "    \"default_validation_id\": null,\n",
      "    \"notify_on\": null,\n",
      "    \"slack_webhook\": null,\n",
      "    \"module_name\": \"great_expectations.checkpoint\",\n",
      "    \"ge_cloud_id\": null,\n",
      "    \"run_name_template\": null,\n",
      "    \"evaluation_parameters\": {},\n",
      "    \"expectation_suite_ge_cloud_id\": null,\n",
      "    \"profilers\": []\n",
      "  },\n",
      "  \"success\": true\n",
      "}\n",
      "hello\n",
      "hello\n"
     ]
    }
   ],
   "source": [
    "# current_path = pathlib.Path().parents[1]\n",
    "data_path = (\n",
    "    current_path\n",
    "    / \"..\"\n",
    "    / \"..\"\n",
    "    / \"test_sets\"\n",
    "    / \"taxi_yellow_tripdata_samples\"\n",
    "    / \"first_ten_trips_in_each_file\"\n",
    ")\n",
    "context.sources.add_pandas_filesystem(\n",
    "    \"taxi_multi_batch_datasource\",\n",
    "    base_directory=data_path,  # replace with your data directory\n",
    ").add_csv_asset(\n",
    "    \"all_years\",\n",
    "    batching_regex=r\"yellow_tripdata_sample_(?P<year>\\d{4})-(?P<month>\\d{2})\\.csv\",\n",
    ")\n",
    "expectation_suite_name = \"my_missingness_assistant_suite\"\n",
    "expectation_suite = context.add_or_update_expectation_suite(\n",
    "    expectation_suite_name=expectation_suite_name\n",
    ")\n",
    "all_years_asset: DataAsset = context.datasources[\n",
    "    \"taxi_multi_batch_datasource\"\n",
    "].get_asset(\"all_years\")\n",
    "\n",
    "multi_batch_all_years_batch_request: BatchRequest = (\n",
    "    all_years_asset.build_batch_request()\n",
    ")\n",
    "exclude_column_names = [\n",
    "    \"VendorID\",\n",
    "    \"pickup_datetime\",\n",
    "    \"dropoff_datetime\",\n",
    "    \"RatecodeID\",\n",
    "    \"PULocationID\",\n",
    "    \"DOLocationID\",\n",
    "    \"payment_type\",\n",
    "    \"fare_amount\",\n",
    "    \"extra\",\n",
    "    \"mta_tax\",\n",
    "    \"tip_amount\",\n",
    "    \"tolls_amount\",\n",
    "    \"improvement_surcharge\",\n",
    "    \"congestion_surcharge\",\n",
    "]\n",
    "data_assistant_result = context.assistants.missingness.run(\n",
    "    batch_request=multi_batch_all_years_batch_request,\n",
    "    exclude_column_names=exclude_column_names,\n",
    ")\n",
    "expectation_suite = data_assistant_result.get_expectation_suite(\n",
    "    expectation_suite_name=expectation_suite_name\n",
    ")\n",
    "context.add_or_update_expectation_suite(expectation_suite=expectation_suite)\n",
    "checkpoint = context.add_or_update_checkpoint(\n",
    "    name=f\"yellow_tripdata_sample_{expectation_suite_name}\",\n",
    "    validations=[\n",
    "        {\n",
    "            \"batch_request\": multi_batch_all_years_batch_request,\n",
    "            \"expectation_suite_name\": expectation_suite_name,\n",
    "        }\n",
    "    ],\n",
    ")\n",
    "checkpoint_result = checkpoint.run()\n",
    "print(checkpoint_result)\n",
    "print(\"hello\")\n",
    "res = data_assistant_result.plot_expectations_and_metrics()"
   ]
  },
  {
   "cell_type": "code",
   "execution_count": 4,
   "id": "83b4dad2",
   "metadata": {
    "scrolled": true
   },
   "outputs": [
    {
     "name": "stdout",
     "output_type": "stream",
     "text": [
      "hello\n"
     ]
    },
    {
     "data": {
      "text/plain": []
     },
     "execution_count": 4,
     "metadata": {},
     "output_type": "execute_result"
    }
   ],
   "source": [
    "data_assistant_result.plot_expectations_and_metrics()"
   ]
  },
  {
   "cell_type": "code",
   "execution_count": null,
   "id": "9f9ae8c0",
   "metadata": {},
   "outputs": [],
   "source": []
  }
 ],
 "metadata": {
  "kernelspec": {
   "display_name": "Python 3 (ipykernel)",
   "language": "python",
   "name": "python3"
  },
  "language_info": {
   "codemirror_mode": {
    "name": "ipython",
    "version": 3
   },
   "file_extension": ".py",
   "mimetype": "text/x-python",
   "name": "python",
   "nbconvert_exporter": "python",
   "pygments_lexer": "ipython3",
   "version": "3.8.18"
  }
 },
 "nbformat": 4,
 "nbformat_minor": 5
}
